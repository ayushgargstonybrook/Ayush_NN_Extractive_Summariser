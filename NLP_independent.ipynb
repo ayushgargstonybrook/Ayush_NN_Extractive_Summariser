{
  "nbformat": 4,
  "nbformat_minor": 0,
  "metadata": {
    "colab": {
      "name": "NLP_independent.ipynb",
      "provenance": []
    },
    "kernelspec": {
      "name": "python3",
      "display_name": "Python 3"
    },
    "accelerator": "GPU"
  },
  "cells": [
    {
      "cell_type": "code",
      "metadata": {
        "id": "4YN94uO6OFB_",
        "colab_type": "code",
        "colab": {}
      },
      "source": [
        "import tensorflow as tf\n",
        "import pandas as pd\n",
        "import os\n",
        "import numpy as np\n",
        "import nltk\n",
        "import zipfile\n",
        "from nltk.tokenize import sent_tokenize,word_tokenize\n",
        "import json"
      ],
      "execution_count": 0,
      "outputs": []
    },
    {
      "cell_type": "code",
      "metadata": {
        "id": "LVtrEBH2TG9g",
        "colab_type": "code",
        "outputId": "bb4d945a-7d7c-494b-c325-0c27cbe11253",
        "colab": {
          "base_uri": "https://localhost:8080/",
          "height": 68
        }
      },
      "source": [
        "nltk.download('punkt')"
      ],
      "execution_count": 5,
      "outputs": [
        {
          "output_type": "stream",
          "text": [
            "[nltk_data] Downloading package punkt to /root/nltk_data...\n",
            "[nltk_data]   Package punkt is already up-to-date!\n"
          ],
          "name": "stdout"
        },
        {
          "output_type": "execute_result",
          "data": {
            "text/plain": [
              "True"
            ]
          },
          "metadata": {
            "tags": []
          },
          "execution_count": 5
        }
      ]
    },
    {
      "cell_type": "code",
      "metadata": {
        "id": "ZtY23aJZOx1J",
        "colab_type": "code",
        "outputId": "fa8d5a81-48ba-48ce-dfcc-0355693405c4",
        "colab": {
          "base_uri": "https://localhost:8080/",
          "height": 54
        }
      },
      "source": [
        "from google.colab import drive\n",
        "drive.mount('/content/drive/')"
      ],
      "execution_count": 6,
      "outputs": [
        {
          "output_type": "stream",
          "text": [
            "Drive already mounted at /content/drive/; to attempt to forcibly remount, call drive.mount(\"/content/drive/\", force_remount=True).\n"
          ],
          "name": "stdout"
        }
      ]
    },
    {
      "cell_type": "code",
      "metadata": {
        "id": "MJIkpSm0O3pf",
        "colab_type": "code",
        "colab": {}
      },
      "source": [
        "with zipfile.ZipFile('/content/drive/My Drive/news_dataset/bbc-news-summary.zip', 'r') as zip_ref:\n",
        "    zip_ref.extractall('/content/drive/My Drive/news_dataset/bbc-news-folder')"
      ],
      "execution_count": 0,
      "outputs": []
    },
    {
      "cell_type": "code",
      "metadata": {
        "id": "-K3GJTxXpHbp",
        "colab_type": "code",
        "colab": {}
      },
      "source": [
        "with zipfile.ZipFile('/content/drive/My Drive/Ayush_Project.zip', 'r') as zip_ref:\n",
        "    zip_ref.extractall('/content/drive/My Drive/Ayush_Project.zip')"
      ],
      "execution_count": 0,
      "outputs": []
    },
    {
      "cell_type": "code",
      "metadata": {
        "id": "vaimetShRAlz",
        "colab_type": "code",
        "outputId": "4166bce1-f992-438c-e8a8-6518cbf94076",
        "colab": {
          "base_uri": "https://localhost:8080/",
          "height": 51
        }
      },
      "source": [
        "content1 = \"hello how are you Ayush Jr. Garg? Hope you are doing fine\"\n",
        "sentences = sent_tokenize(content1)\n",
        "for idx, sent in enumerate(sentences):\n",
        "  print(\"[%s] %s\" % (idx, sent))"
      ],
      "execution_count": 0,
      "outputs": [
        {
          "output_type": "stream",
          "text": [
            "[0] hello how are you Ayush Jr. Garg?\n",
            "[1] Hope you are doing fine\n"
          ],
          "name": "stdout"
        }
      ]
    },
    {
      "cell_type": "code",
      "metadata": {
        "id": "MdzcIhQjSRlj",
        "colab_type": "code",
        "outputId": "d47dcf05-a924-4b50-8c5d-b74ff8cc1442",
        "colab": {
          "base_uri": "https://localhost:8080/",
          "height": 34
        }
      },
      "source": [
        "%cd /content/drive/My Drive/news_dataset/bbc-news-folder/BBC News Summary"
      ],
      "execution_count": 0,
      "outputs": [
        {
          "output_type": "stream",
          "text": [
            "/content/drive/My Drive/news_dataset/bbc-news-folder/BBC News Summary\n"
          ],
          "name": "stdout"
        }
      ]
    },
    {
      "cell_type": "code",
      "metadata": {
        "id": "X0c0Z68nSV6K",
        "colab_type": "code",
        "outputId": "2b1874f1-09db-4056-f526-7045368f0133",
        "colab": {
          "base_uri": "https://localhost:8080/",
          "height": 34
        }
      },
      "source": [
        "pwd"
      ],
      "execution_count": 0,
      "outputs": [
        {
          "output_type": "execute_result",
          "data": {
            "text/plain": [
              "'/content/drive/My Drive/news_dataset/bbc-news-folder/BBC News Summary'"
            ]
          },
          "metadata": {
            "tags": []
          },
          "execution_count": 6
        }
      ]
    },
    {
      "cell_type": "code",
      "metadata": {
        "id": "A0I6Ci14WUzZ",
        "colab_type": "code",
        "outputId": "0cb392c6-878e-4b22-84f0-89392e2ed4f4",
        "colab": {
          "base_uri": "https://localhost:8080/",
          "height": 54
        }
      },
      "source": [
        "file1 = open(\"Summaries/business/001.txt\",\"r\")\n",
        "content1 = file1.read()\n",
        "print(content1)"
      ],
      "execution_count": 0,
      "outputs": [
        {
          "output_type": "stream",
          "text": [
            "TimeWarner said fourth quarter sales rose 2% to $11.1bn from $10.9bn.For the full-year, TimeWarner posted a profit of $3.36bn, up 27% from its 2003 performance, while revenues grew 6.4% to $42.09bn.Quarterly profits at US media giant TimeWarner jumped 76% to $1.13bn (£600m) for the three months to December, from $639m year-earlier.However, the company said AOL's underlying profit before exceptional items rose 8% on the back of stronger internet advertising revenues.Its profits were buoyed by one-off gains which offset a profit dip at Warner Bros, and less users for AOL.For 2005, TimeWarner is projecting operating earnings growth of around 5%, and also expects higher revenue and wider profit margins.It lost 464,000 subscribers in the fourth quarter profits were lower than in the preceding three quarters.Time Warner's fourth quarter profits were slightly better than analysts' expectations.\n"
          ],
          "name": "stdout"
        }
      ]
    },
    {
      "cell_type": "code",
      "metadata": {
        "id": "Q8oVzcNGWl7I",
        "colab_type": "code",
        "outputId": "a352fcad-42ed-4056-ca80-c221da9c382f",
        "colab": {
          "base_uri": "https://localhost:8080/",
          "height": 54
        }
      },
      "source": [
        "sentences = sent_tokenize(content1)\n",
        "for idx, sent in enumerate(sentences):\n",
        "  print(\"[%s] %s\" % (idx, sent))"
      ],
      "execution_count": 0,
      "outputs": [
        {
          "output_type": "stream",
          "text": [
            "[0] TimeWarner said fourth quarter sales rose 2% to $11.1bn from $10.9bn.For the full-year, TimeWarner posted a profit of $3.36bn, up 27% from its 2003 performance, while revenues grew 6.4% to $42.09bn.Quarterly profits at US media giant TimeWarner jumped 76% to $1.13bn (£600m) for the three months to December, from $639m year-earlier.However, the company said AOL's underlying profit before exceptional items rose 8% on the back of stronger internet advertising revenues.Its profits were buoyed by one-off gains which offset a profit dip at Warner Bros, and less users for AOL.For 2005, TimeWarner is projecting operating earnings growth of around 5%, and also expects higher revenue and wider profit margins.It lost 464,000 subscribers in the fourth quarter profits were lower than in the preceding three quarters.Time Warner's fourth quarter profits were slightly better than analysts' expectations.\n"
          ],
          "name": "stdout"
        }
      ]
    },
    {
      "cell_type": "code",
      "metadata": {
        "id": "Ow5rYgGwXRb3",
        "colab_type": "code",
        "outputId": "ea78c0b9-1850-4f14-b780-f9ff0fc89308",
        "colab": {
          "base_uri": "https://localhost:8080/",
          "height": 241
        }
      },
      "source": [
        "file2 = open(\"News Articles/business/001.txt\",\"r\")\n",
        "content = file2.read()\n",
        "print(content)"
      ],
      "execution_count": 0,
      "outputs": [
        {
          "output_type": "stream",
          "text": [
            "Ad sales boost Time Warner profit\n",
            "\n",
            "Quarterly profits at US media giant TimeWarner jumped 76% to $1.13bn (£600m) for the three months to December, from $639m year-earlier.\n",
            "\n",
            "The firm, which is now one of the biggest investors in Google, benefited from sales of high-speed internet connections and higher advert sales. TimeWarner said fourth quarter sales rose 2% to $11.1bn from $10.9bn. Its profits were buoyed by one-off gains which offset a profit dip at Warner Bros, and less users for AOL.\n",
            "\n",
            "Time Warner said on Friday that it now owns 8% of search-engine Google. But its own internet business, AOL, had has mixed fortunes. It lost 464,000 subscribers in the fourth quarter profits were lower than in the preceding three quarters. However, the company said AOL's underlying profit before exceptional items rose 8% on the back of stronger internet advertising revenues. It hopes to increase subscribers by offering the online service free to TimeWarner internet customers and will try to sign up AOL's existing customers for high-speed broadband. TimeWarner also has to restate 2000 and 2003 results following a probe by the US Securities Exchange Commission (SEC), which is close to concluding.\n",
            "\n",
            "Time Warner's fourth quarter profits were slightly better than analysts' expectations. But its film division saw profits slump 27% to $284m, helped by box-office flops Alexander and Catwoman, a sharp contrast to year-earlier, when the third and final film in the Lord of the Rings trilogy boosted results. For the full-year, TimeWarner posted a profit of $3.36bn, up 27% from its 2003 performance, while revenues grew 6.4% to $42.09bn. \"Our financial performance was strong, meeting or exceeding all of our full-year objectives and greatly enhancing our flexibility,\" chairman and chief executive Richard Parsons said. For 2005, TimeWarner is projecting operating earnings growth of around 5%, and also expects higher revenue and wider profit margins.\n",
            "\n",
            "TimeWarner is to restate its accounts as part of efforts to resolve an inquiry into AOL by US market regulators. It has already offered to pay $300m to settle charges, in a deal that is under review by the SEC. The company said it was unable to estimate the amount it needed to set aside for legal reserves, which it previously set at $500m. It intends to adjust the way it accounts for a deal with German music publisher Bertelsmann's purchase of a stake in AOL Europe, which it had reported as advertising revenue. It will now book the sale of its stake in AOL Europe as a loss on the value of that stake.\n",
            "\n"
          ],
          "name": "stdout"
        }
      ]
    },
    {
      "cell_type": "code",
      "metadata": {
        "id": "Opsf1K_sYzq2",
        "colab_type": "code",
        "colab": {}
      },
      "source": [
        "temp = []"
      ],
      "execution_count": 0,
      "outputs": []
    },
    {
      "cell_type": "code",
      "metadata": {
        "id": "2ik6FzJuWba9",
        "colab_type": "code",
        "outputId": "07b1c41d-cd1f-4288-d1e6-2aac2fffa481",
        "colab": {
          "base_uri": "https://localhost:8080/",
          "height": 394
        }
      },
      "source": [
        "sentences = sent_tokenize(content)\n",
        "for idx, sent in enumerate(sentences):\n",
        "  if '\\n\\n' in sent:\n",
        "    sent = sent.split('\\n\\n')[-1]\n",
        "  if sent in content1:\n",
        "    temp.append(sent)\n",
        "  print(\"[%s] %s\" % (idx, sent))\n",
        "print(temp)"
      ],
      "execution_count": 0,
      "outputs": [
        {
          "output_type": "stream",
          "text": [
            "[0] Quarterly profits at US media giant TimeWarner jumped 76% to $1.13bn (£600m) for the three months to December, from $639m year-earlier.\n",
            "[1] The firm, which is now one of the biggest investors in Google, benefited from sales of high-speed internet connections and higher advert sales.\n",
            "[2] TimeWarner said fourth quarter sales rose 2% to $11.1bn from $10.9bn.\n",
            "[3] Its profits were buoyed by one-off gains which offset a profit dip at Warner Bros, and less users for AOL.\n",
            "[4] Time Warner said on Friday that it now owns 8% of search-engine Google.\n",
            "[5] But its own internet business, AOL, had has mixed fortunes.\n",
            "[6] It lost 464,000 subscribers in the fourth quarter profits were lower than in the preceding three quarters.\n",
            "[7] However, the company said AOL's underlying profit before exceptional items rose 8% on the back of stronger internet advertising revenues.\n",
            "[8] It hopes to increase subscribers by offering the online service free to TimeWarner internet customers and will try to sign up AOL's existing customers for high-speed broadband.\n",
            "[9] TimeWarner also has to restate 2000 and 2003 results following a probe by the US Securities Exchange Commission (SEC), which is close to concluding.\n",
            "[10] Time Warner's fourth quarter profits were slightly better than analysts' expectations.\n",
            "[11] But its film division saw profits slump 27% to $284m, helped by box-office flops Alexander and Catwoman, a sharp contrast to year-earlier, when the third and final film in the Lord of the Rings trilogy boosted results.\n",
            "[12] For the full-year, TimeWarner posted a profit of $3.36bn, up 27% from its 2003 performance, while revenues grew 6.4% to $42.09bn.\n",
            "[13] \"Our financial performance was strong, meeting or exceeding all of our full-year objectives and greatly enhancing our flexibility,\" chairman and chief executive Richard Parsons said.\n",
            "[14] For 2005, TimeWarner is projecting operating earnings growth of around 5%, and also expects higher revenue and wider profit margins.\n",
            "[15] TimeWarner is to restate its accounts as part of efforts to resolve an inquiry into AOL by US market regulators.\n",
            "[16] It has already offered to pay $300m to settle charges, in a deal that is under review by the SEC.\n",
            "[17] The company said it was unable to estimate the amount it needed to set aside for legal reserves, which it previously set at $500m.\n",
            "[18] It intends to adjust the way it accounts for a deal with German music publisher Bertelsmann's purchase of a stake in AOL Europe, which it had reported as advertising revenue.\n",
            "[19] It will now book the sale of its stake in AOL Europe as a loss on the value of that stake.\n",
            "['Quarterly profits at US media giant TimeWarner jumped 76% to $1.13bn (£600m) for the three months to December, from $639m year-earlier.', 'TimeWarner said fourth quarter sales rose 2% to $11.1bn from $10.9bn.', 'Its profits were buoyed by one-off gains which offset a profit dip at Warner Bros, and less users for AOL.', 'It lost 464,000 subscribers in the fourth quarter profits were lower than in the preceding three quarters.', \"However, the company said AOL's underlying profit before exceptional items rose 8% on the back of stronger internet advertising revenues.\", \"Time Warner's fourth quarter profits were slightly better than analysts' expectations.\", 'For the full-year, TimeWarner posted a profit of $3.36bn, up 27% from its 2003 performance, while revenues grew 6.4% to $42.09bn.', 'For 2005, TimeWarner is projecting operating earnings growth of around 5%, and also expects higher revenue and wider profit margins.']\n"
          ],
          "name": "stdout"
        }
      ]
    },
    {
      "cell_type": "code",
      "metadata": {
        "id": "dgk9WviRbrss",
        "colab_type": "code",
        "outputId": "6dfc0408-3a83-4401-f708-1e47f9d9ebe2",
        "colab": {
          "base_uri": "https://localhost:8080/",
          "height": 34
        }
      },
      "source": [
        "len(temp)"
      ],
      "execution_count": 0,
      "outputs": [
        {
          "output_type": "execute_result",
          "data": {
            "text/plain": [
              "8"
            ]
          },
          "metadata": {
            "tags": []
          },
          "execution_count": 15
        }
      ]
    },
    {
      "cell_type": "code",
      "metadata": {
        "id": "gkJaDDLZfpMZ",
        "colab_type": "code",
        "colab": {}
      },
      "source": [
        "summaries = []\n",
        "rootdir = '/content/drive/My Drive/news_dataset/bbc-news-folder/BBC News Summary/Summaries'\n",
        "for subdir, dirs, files in os.walk(rootdir):\n",
        "  for file in files:\n",
        "    fobj = open(os.path.join(subdir, file),\"r\")\n",
        "    content = fobj.read()\n",
        "    summaries.append(content)"
      ],
      "execution_count": 0,
      "outputs": []
    },
    {
      "cell_type": "code",
      "metadata": {
        "id": "VegO7zC3gNbO",
        "colab_type": "code",
        "outputId": "17cc6503-e67d-49b1-ed24-3f7111b63668",
        "colab": {
          "base_uri": "https://localhost:8080/",
          "height": 34
        }
      },
      "source": [
        "len(summaries)"
      ],
      "execution_count": 0,
      "outputs": [
        {
          "output_type": "execute_result",
          "data": {
            "text/plain": [
              "2225"
            ]
          },
          "metadata": {
            "tags": []
          },
          "execution_count": 23
        }
      ]
    },
    {
      "cell_type": "code",
      "metadata": {
        "id": "Eq2lhvO3h42X",
        "colab_type": "code",
        "outputId": "e7b909be-3f7f-479c-b4d8-542c792a8202",
        "colab": {
          "base_uri": "https://localhost:8080/",
          "height": 54
        }
      },
      "source": [
        "summaries[510]"
      ],
      "execution_count": 0,
      "outputs": [
        {
          "output_type": "execute_result",
          "data": {
            "text/plain": [
              "'The messages will be \"unwrapped\" by sculptor Richard Wentworth, who is responsible for decorating the tree with broken plates and light bulbs.A Christmas tree that can receive text messages has been unveiled at London\\'s Tate Britain art gallery.It is the 17th year that the gallery has invited an artist to dress their Christmas tree.The spruce has an antenna which can receive Bluetooth texts sent by visitors to the Tate.His reputation as a sculptor grew in the 1980s, while he has been one of the most influential teachers during the last two decades.'"
            ]
          },
          "metadata": {
            "tags": []
          },
          "execution_count": 18
        }
      ]
    },
    {
      "cell_type": "code",
      "metadata": {
        "id": "xfEgNG_LVg3b",
        "colab_type": "code",
        "colab": {}
      },
      "source": [
        "sentlen = []\n",
        "onehot = []\n",
        "allinfo = []"
      ],
      "execution_count": 0,
      "outputs": []
    },
    {
      "cell_type": "code",
      "metadata": {
        "id": "hsXHlQ13Z5FM",
        "colab_type": "code",
        "colab": {}
      },
      "source": [
        "rootdir = '/content/drive/My Drive/news_dataset/bbc-news-folder/BBC News Summary/News Articles'\n",
        "count = 0\n",
        "for subdir, dirs, files in os.walk(rootdir):\n",
        "    for file in files:\n",
        "      temponehot = []\n",
        "      tempsentlen = []\n",
        "      tempinfo = {}\n",
        "      fobj = open(os.path.join(subdir, file),errors='ignore')\n",
        "      content = fobj.read()\n",
        "      sentences = sent_tokenize(content)\n",
        "      tempinfo['content'] = sentences\n",
        "      for idx, sent in enumerate(sentences):\n",
        "        if '\\n\\n' in sent:\n",
        "          sent = sent.split('\\n\\n')[-1]\n",
        "        tempsentlen.append(len(sent.split(\" \")))\n",
        "        if sent in summaries[count]:\n",
        "          temponehot.append(1)\n",
        "        else:\n",
        "          temponehot.append(0)\n",
        "      onehot.append(temponehot)\n",
        "      sentlen.append(tempsentlen)\n",
        "      tempinfo['relevant'] = temponehot\n",
        "      tempinfo['length'] = tempsentlen\n",
        "      allinfo.append(tempinfo)\n",
        "      count+=1\n",
        "s = json.dumps(allinfo)"
      ],
      "execution_count": 0,
      "outputs": []
    },
    {
      "cell_type": "code",
      "metadata": {
        "id": "NBx9nocmLiHj",
        "colab_type": "code",
        "outputId": "16c0cbad-7600-4a27-c2e9-7c44c45ef91e",
        "colab": {
          "base_uri": "https://localhost:8080/",
          "height": 34
        }
      },
      "source": [
        "len(allinfo)"
      ],
      "execution_count": 0,
      "outputs": [
        {
          "output_type": "execute_result",
          "data": {
            "text/plain": [
              "2225"
            ]
          },
          "metadata": {
            "tags": []
          },
          "execution_count": 24
        }
      ]
    },
    {
      "cell_type": "code",
      "metadata": {
        "id": "L-ONoQxoeN9o",
        "colab_type": "code",
        "outputId": "4c80989d-6f57-4429-dc03-b0cc815a699e",
        "colab": {
          "base_uri": "https://localhost:8080/",
          "height": 34
        }
      },
      "source": [
        "print(count)"
      ],
      "execution_count": 0,
      "outputs": [
        {
          "output_type": "stream",
          "text": [
            "2225\n"
          ],
          "name": "stdout"
        }
      ]
    },
    {
      "cell_type": "code",
      "metadata": {
        "id": "_DjzHH3Fihv8",
        "colab_type": "code",
        "outputId": "b12da0f9-01cf-41e2-d6f3-4aec600421a5",
        "colab": {
          "base_uri": "https://localhost:8080/",
          "height": 34
        }
      },
      "source": [
        "print(onehot[510])"
      ],
      "execution_count": 0,
      "outputs": [
        {
          "output_type": "stream",
          "text": [
            "[1, 1, 1, 1, 0, 0, 0, 0, 0, 1, 0]\n"
          ],
          "name": "stdout"
        }
      ]
    },
    {
      "cell_type": "code",
      "metadata": {
        "id": "GpASu-VRqWWR",
        "colab_type": "code",
        "outputId": "ef41dd23-9db3-4112-e726-421fbc5864e0",
        "colab": {
          "base_uri": "https://localhost:8080/",
          "height": 34
        }
      },
      "source": [
        "len(strs)"
      ],
      "execution_count": 0,
      "outputs": [
        {
          "output_type": "execute_result",
          "data": {
            "text/plain": [
              "2225"
            ]
          },
          "metadata": {
            "tags": []
          },
          "execution_count": 29
        }
      ]
    },
    {
      "cell_type": "code",
      "metadata": {
        "id": "pSzVijtPeFbJ",
        "colab_type": "code",
        "outputId": "18f3dfc3-6418-44d2-c349-494fd75b4b8a",
        "colab": {
          "base_uri": "https://localhost:8080/",
          "height": 34
        }
      },
      "source": [
        "!echo \"test\" > a.txt\n",
        "!wc -l a.txt"
      ],
      "execution_count": 0,
      "outputs": [
        {
          "output_type": "stream",
          "text": [
            "1 a.txt\n"
          ],
          "name": "stdout"
        }
      ]
    },
    {
      "cell_type": "code",
      "metadata": {
        "id": "7qnAOCJbLjo5",
        "colab_type": "code",
        "outputId": "937d2152-ecdc-4a49-ac26-f8f72be43e6d",
        "colab": {
          "base_uri": "https://localhost:8080/",
          "height": 51
        }
      },
      "source": [
        "strs = [json.dumps(innerdict) for innerdict in allinfo]\n",
        "print(len(strs))\n",
        "ss = \"%s\" % \"\\n\".join(strs)\n",
        "open('opltraining1.json','w').write(ss)"
      ],
      "execution_count": 0,
      "outputs": [
        {
          "output_type": "stream",
          "text": [
            "2225\n"
          ],
          "name": "stdout"
        },
        {
          "output_type": "execute_result",
          "data": {
            "text/plain": [
              "5564338"
            ]
          },
          "metadata": {
            "tags": []
          },
          "execution_count": 30
        }
      ]
    },
    {
      "cell_type": "code",
      "metadata": {
        "id": "SqpF6irSd1qH",
        "colab_type": "code",
        "outputId": "bdcacc76-b1ac-4a1c-8603-633623a2bafb",
        "colab": {
          "base_uri": "https://localhost:8080/",
          "height": 34
        }
      },
      "source": [
        "!wc -l opltraining1.json"
      ],
      "execution_count": 0,
      "outputs": [
        {
          "output_type": "stream",
          "text": [
            "2224 opltraining1.json\n"
          ],
          "name": "stdout"
        }
      ]
    },
    {
      "cell_type": "code",
      "metadata": {
        "id": "spSjzEQVkhgO",
        "colab_type": "code",
        "outputId": "d8adc076-83eb-4210-d0c6-c80522401fde",
        "colab": {
          "base_uri": "https://localhost:8080/",
          "height": 34
        }
      },
      "source": [
        "open('training.json','w').write(s)"
      ],
      "execution_count": 0,
      "outputs": [
        {
          "output_type": "execute_result",
          "data": {
            "text/plain": [
              "5566564"
            ]
          },
          "metadata": {
            "tags": []
          },
          "execution_count": 112
        }
      ]
    },
    {
      "cell_type": "code",
      "metadata": {
        "id": "sg-KwmIIqCJe",
        "colab_type": "code",
        "outputId": "c71837d2-245d-41b6-ff80-4cae318a6599",
        "colab": {
          "base_uri": "https://localhost:8080/",
          "height": 34
        }
      },
      "source": [
        "pwd"
      ],
      "execution_count": 0,
      "outputs": [
        {
          "output_type": "execute_result",
          "data": {
            "text/plain": [
              "'/content/drive/My Drive/news_dataset/bbc-news-folder/BBC News Summary'"
            ]
          },
          "metadata": {
            "tags": []
          },
          "execution_count": 114
        }
      ]
    },
    {
      "cell_type": "code",
      "metadata": {
        "id": "2Emhbt5wqZwr",
        "colab_type": "code",
        "colab": {}
      },
      "source": [
        "with open('preprocessed_training_data.json', 'w') as f:\n",
        "    json.dump(s, f)"
      ],
      "execution_count": 0,
      "outputs": []
    },
    {
      "cell_type": "code",
      "metadata": {
        "id": "jeOeKogSqqw3",
        "colab_type": "code",
        "colab": {}
      },
      "source": [
        "!unzip '/content/drive/My Drive/Ayush_Project.zip' "
      ],
      "execution_count": 0,
      "outputs": []
    },
    {
      "cell_type": "code",
      "metadata": {
        "id": "YtDlSXkfprZl",
        "colab_type": "code",
        "outputId": "6e312269-1692-4a50-9e5b-23b63ce78848",
        "colab": {
          "base_uri": "https://localhost:8080/",
          "height": 34
        }
      },
      "source": [
        "%cd /content/drive/My Drive/Ayush_Project/"
      ],
      "execution_count": 8,
      "outputs": [
        {
          "output_type": "stream",
          "text": [
            "/content/drive/My Drive/Ayush_Project\n"
          ],
          "name": "stdout"
        }
      ]
    },
    {
      "cell_type": "code",
      "metadata": {
        "id": "bS07bTHrqEfl",
        "colab_type": "code",
        "colab": {}
      },
      "source": [
        "!pip install allennlp"
      ],
      "execution_count": 0,
      "outputs": []
    },
    {
      "cell_type": "code",
      "metadata": {
        "id": "PcvTsXVTqIjg",
        "colab_type": "code",
        "outputId": "5176721c-1500-4038-8256-cee5ff0a560f",
        "colab": {
          "base_uri": "https://localhost:8080/",
          "height": 1000
        }
      },
      "source": [
        "!rm -rf summarizer && allennlp train configs/summariser.jsonnet -s summarizer --include-package lib"
      ],
      "execution_count": 9,
      "outputs": [
        {
          "output_type": "stream",
          "text": [
            "2019-12-24 17:50:05,933 - INFO - pytorch_pretrained_bert.modeling - Better speed can be achieved with apex installed from https://www.github.com/nvidia/apex .\n",
            "2019-12-24 17:50:06,456 - INFO - pytorch_transformers.modeling_bert - Better speed can be achieved with apex installed from https://www.github.com/nvidia/apex .\n",
            "2019-12-24 17:50:06,461 - INFO - pytorch_transformers.modeling_xlnet - Better speed can be achieved with apex installed from https://www.github.com/nvidia/apex .\n",
            "2019-12-24 17:50:06,732 - INFO - allennlp.common.registrable - instantiating registered subclass relu of <class 'allennlp.nn.activations.Activation'>\n",
            "2019-12-24 17:50:06,735 - INFO - allennlp.common.registrable - instantiating registered subclass relu of <class 'allennlp.nn.activations.Activation'>\n",
            "2019-12-24 17:50:06,735 - INFO - allennlp.common.registrable - instantiating registered subclass relu of <class 'allennlp.nn.activations.Activation'>\n",
            "2019-12-24 17:50:06,736 - INFO - allennlp.common.registrable - instantiating registered subclass relu of <class 'allennlp.nn.activations.Activation'>\n",
            "2019-12-24 17:50:10,087 - INFO - allennlp.common.params - random_seed = 13370\n",
            "2019-12-24 17:50:10,087 - INFO - allennlp.common.params - numpy_seed = 1337\n",
            "2019-12-24 17:50:10,088 - INFO - allennlp.common.params - pytorch_seed = 133\n",
            "2019-12-24 17:50:10,145 - INFO - allennlp.common.checks - Pytorch version: 1.3.1\n",
            "2019-12-24 17:50:10,150 - INFO - allennlp.common.params - evaluate_on_test = False\n",
            "2019-12-24 17:50:10,151 - INFO - allennlp.common.params - validation_dataset_reader = None\n",
            "2019-12-24 17:50:10,151 - INFO - allennlp.common.from_params - instantiating class <class 'allennlp.data.dataset_readers.dataset_reader.DatasetReader'> from params {'token_indexers': {'tokens': {'lowercase_tokens': True, 'type': 'single_id'}}, 'type': 'summariser_dataset_reader'} and extras set()\n",
            "2019-12-24 17:50:10,152 - INFO - allennlp.common.params - dataset_reader.type = summariser_dataset_reader\n",
            "2019-12-24 17:50:10,152 - INFO - allennlp.common.from_params - instantiating class <class 'lib.dataset_readers.reader.PosDatasetReader'> from params {'token_indexers': {'tokens': {'lowercase_tokens': True, 'type': 'single_id'}}} and extras set()\n",
            "2019-12-24 17:50:10,153 - INFO - allennlp.common.from_params - instantiating class allennlp.data.token_indexers.token_indexer.TokenIndexer from params {'lowercase_tokens': True, 'type': 'single_id'} and extras set()\n",
            "2019-12-24 17:50:10,153 - INFO - allennlp.common.params - dataset_reader.token_indexers.tokens.type = single_id\n",
            "2019-12-24 17:50:10,153 - INFO - allennlp.common.from_params - instantiating class allennlp.data.token_indexers.single_id_token_indexer.SingleIdTokenIndexer from params {'lowercase_tokens': True} and extras set()\n",
            "2019-12-24 17:50:10,153 - INFO - allennlp.common.params - dataset_reader.token_indexers.tokens.namespace = tokens\n",
            "2019-12-24 17:50:10,154 - INFO - allennlp.common.params - dataset_reader.token_indexers.tokens.lowercase_tokens = True\n",
            "2019-12-24 17:50:10,154 - INFO - allennlp.common.params - dataset_reader.token_indexers.tokens.start_tokens = None\n",
            "2019-12-24 17:50:10,154 - INFO - allennlp.common.params - dataset_reader.token_indexers.tokens.end_tokens = None\n",
            "2019-12-24 17:50:10,154 - INFO - allennlp.common.params - dataset_reader.token_indexers.tokens.token_min_padding_length = 0\n",
            "2019-12-24 17:50:10,155 - INFO - allennlp.common.params - train_data_path = data/train.json\n",
            "2019-12-24 17:50:10,155 - INFO - allennlp.training.util - Reading training data from data/train.json\n",
            "1774it [00:02, 752.54it/s]\n",
            "2019-12-24 17:50:12,514 - INFO - allennlp.common.params - validation_data_path = data/dev.json\n",
            "2019-12-24 17:50:12,514 - INFO - allennlp.training.util - Reading validation data from data/dev.json\n",
            "450it [00:01, 441.09it/s]\n",
            "2019-12-24 17:50:13,535 - INFO - allennlp.common.params - test_data_path = None\n",
            "2019-12-24 17:50:13,540 - INFO - allennlp.training.trainer_pieces - From dataset instances, validation, train will be considered for vocabulary creation.\n",
            "2019-12-24 17:50:13,541 - INFO - allennlp.common.params - vocabulary.type = None\n",
            "2019-12-24 17:50:13,541 - INFO - allennlp.common.params - vocabulary.extend = False\n",
            "2019-12-24 17:50:13,541 - INFO - allennlp.common.params - vocabulary.directory_path = None\n",
            "2019-12-24 17:50:13,541 - INFO - allennlp.common.params - vocabulary.min_count = None\n",
            "2019-12-24 17:50:13,541 - INFO - allennlp.common.params - vocabulary.max_vocab_size = None\n",
            "2019-12-24 17:50:13,542 - INFO - allennlp.common.params - vocabulary.non_padded_namespaces = ('*tags', '*labels')\n",
            "2019-12-24 17:50:13,542 - INFO - allennlp.common.params - vocabulary.pretrained_files = {}\n",
            "2019-12-24 17:50:13,542 - INFO - allennlp.common.params - vocabulary.min_pretrained_embeddings = None\n",
            "2019-12-24 17:50:13,542 - INFO - allennlp.common.params - vocabulary.only_include_pretrained_words = False\n",
            "2019-12-24 17:50:13,542 - INFO - allennlp.common.params - vocabulary.tokens_to_add = None\n",
            "2019-12-24 17:50:13,542 - INFO - allennlp.data.vocabulary - Fitting token dictionary from dataset.\n",
            "2224it [00:00, 3018.96it/s]\n",
            "2019-12-24 17:50:14,399 - INFO - allennlp.common.from_params - instantiating class <class 'allennlp.models.model.Model'> from params {'attention': {'bidirectional': True, 'hidden_size': 64, 'input_size': 128, 'num_layers': 1, 'type': 'lstm'}, 'classifier': {'activations': ['linear', 'linear', 'sigmoid'], 'hidden_dims': [64, 32, 1], 'input_dim': 128, 'num_layers': 3}, 'encoder': {'bidirectional': True, 'hidden_size': 64, 'input_size': 100, 'num_layers': 1, 'type': 'lstm'}, 'type': 'summarizer-model', 'word_embeddings': {'tokens': {'embedding_dim': 100, 'pretrained_file': 'https://s3-us-west-2.amazonaws.com/allennlp/datasets/glove/glove.6B.100d.txt.gz', 'trainable': False, 'type': 'embedding'}}} and extras {'vocab'}\n",
            "2019-12-24 17:50:14,399 - INFO - allennlp.common.params - model.type = summarizer-model\n",
            "2019-12-24 17:50:14,400 - INFO - allennlp.common.from_params - instantiating class <class 'lib.models.model.Summarizer'> from params {'attention': {'bidirectional': True, 'hidden_size': 64, 'input_size': 128, 'num_layers': 1, 'type': 'lstm'}, 'classifier': {'activations': ['linear', 'linear', 'sigmoid'], 'hidden_dims': [64, 32, 1], 'input_dim': 128, 'num_layers': 3}, 'encoder': {'bidirectional': True, 'hidden_size': 64, 'input_size': 100, 'num_layers': 1, 'type': 'lstm'}, 'word_embeddings': {'tokens': {'embedding_dim': 100, 'pretrained_file': 'https://s3-us-west-2.amazonaws.com/allennlp/datasets/glove/glove.6B.100d.txt.gz', 'trainable': False, 'type': 'embedding'}}} and extras {'vocab'}\n",
            "2019-12-24 17:50:14,400 - INFO - allennlp.common.from_params - instantiating class <class 'allennlp.modules.text_field_embedders.text_field_embedder.TextFieldEmbedder'> from params {'tokens': {'embedding_dim': 100, 'pretrained_file': 'https://s3-us-west-2.amazonaws.com/allennlp/datasets/glove/glove.6B.100d.txt.gz', 'trainable': False, 'type': 'embedding'}} and extras {'vocab'}\n",
            "2019-12-24 17:50:14,400 - INFO - allennlp.common.params - model.word_embeddings.type = basic\n",
            "2019-12-24 17:50:14,401 - INFO - allennlp.common.params - model.word_embeddings.embedder_to_indexer_map = None\n",
            "2019-12-24 17:50:14,401 - INFO - allennlp.common.params - model.word_embeddings.allow_unmatched_keys = False\n",
            "2019-12-24 17:50:14,401 - INFO - allennlp.common.params - model.word_embeddings.token_embedders = None\n",
            "2019-12-24 17:50:14,401 - INFO - allennlp.common.from_params - instantiating class <class 'allennlp.modules.token_embedders.token_embedder.TokenEmbedder'> from params {'embedding_dim': 100, 'pretrained_file': 'https://s3-us-west-2.amazonaws.com/allennlp/datasets/glove/glove.6B.100d.txt.gz', 'trainable': False, 'type': 'embedding'} and extras {'vocab'}\n",
            "2019-12-24 17:50:14,401 - INFO - allennlp.common.params - model.word_embeddings.tokens.type = embedding\n",
            "2019-12-24 17:50:14,402 - INFO - allennlp.common.params - model.word_embeddings.tokens.num_embeddings = None\n",
            "2019-12-24 17:50:14,402 - INFO - allennlp.common.params - model.word_embeddings.tokens.vocab_namespace = tokens\n",
            "2019-12-24 17:50:14,402 - INFO - allennlp.common.params - model.word_embeddings.tokens.embedding_dim = 100\n",
            "2019-12-24 17:50:14,402 - INFO - allennlp.common.params - model.word_embeddings.tokens.pretrained_file = https://s3-us-west-2.amazonaws.com/allennlp/datasets/glove/glove.6B.100d.txt.gz\n",
            "2019-12-24 17:50:14,402 - INFO - allennlp.common.params - model.word_embeddings.tokens.projection_dim = None\n",
            "2019-12-24 17:50:14,402 - INFO - allennlp.common.params - model.word_embeddings.tokens.trainable = False\n",
            "2019-12-24 17:50:14,403 - INFO - allennlp.common.params - model.word_embeddings.tokens.padding_index = None\n",
            "2019-12-24 17:50:14,403 - INFO - allennlp.common.params - model.word_embeddings.tokens.max_norm = None\n",
            "2019-12-24 17:50:14,403 - INFO - allennlp.common.params - model.word_embeddings.tokens.norm_type = 2.0\n",
            "2019-12-24 17:50:14,403 - INFO - allennlp.common.params - model.word_embeddings.tokens.scale_grad_by_freq = False\n",
            "2019-12-24 17:50:14,403 - INFO - allennlp.common.params - model.word_embeddings.tokens.sparse = False\n",
            "2019-12-24 17:50:14,407 - INFO - allennlp.modules.token_embedders.embedding - Reading pretrained embeddings from file\n",
            "2019-12-24 17:50:15,060 - INFO - allennlp.common.file_utils - https://s3-us-west-2.amazonaws.com/allennlp/datasets/glove/glove.6B.100d.txt.gz not found in cache, downloading to /tmp/tmp161br5ta\n",
            "100%|##########| 134300425/134300425 [00:11<00:00, 11425539.79B/s]\n",
            "2019-12-24 17:50:27,554 - INFO - allennlp.common.file_utils - copying /tmp/tmp161br5ta to cache at /root/.allennlp/cache/a61c9a97077e5be80b5473a9274467fd034b5b9779c81d8de7a3dc42dc882612.9b668cee1337bb1f7412a189dada21c5dda914dd6dd91bc24a5d437b5949cbaf\n",
            "2019-12-24 17:50:27,806 - INFO - allennlp.common.file_utils - creating metadata file for /root/.allennlp/cache/a61c9a97077e5be80b5473a9274467fd034b5b9779c81d8de7a3dc42dc882612.9b668cee1337bb1f7412a189dada21c5dda914dd6dd91bc24a5d437b5949cbaf\n",
            "2019-12-24 17:50:27,807 - INFO - allennlp.common.file_utils - removing temp file /tmp/tmp161br5ta\n",
            "400000it [00:04, 85560.83it/s] \n",
            "2019-12-24 17:50:32,528 - INFO - allennlp.modules.token_embedders.embedding - Initializing pre-trained embedding layer\n",
            "2019-12-24 17:50:33,018 - INFO - allennlp.modules.token_embedders.embedding - Pretrained embeddings were found for 26389 out of 60611 tokens\n",
            "2019-12-24 17:50:33,036 - INFO - allennlp.common.from_params - instantiating class <class 'allennlp.modules.seq2vec_encoders.seq2vec_encoder.Seq2VecEncoder'> from params {'bidirectional': True, 'hidden_size': 64, 'input_size': 100, 'num_layers': 1, 'type': 'lstm'} and extras {'vocab'}\n",
            "2019-12-24 17:50:33,036 - INFO - allennlp.common.params - model.encoder.type = lstm\n",
            "2019-12-24 17:50:33,037 - INFO - allennlp.common.params - model.encoder.batch_first = True\n",
            "2019-12-24 17:50:33,037 - INFO - allennlp.common.params - Converting Params object to dict; logging of default values will not occur when dictionary parameters are used subsequently.\n",
            "2019-12-24 17:50:33,037 - INFO - allennlp.common.params - CURRENTLY DEFINED PARAMETERS: \n",
            "2019-12-24 17:50:33,037 - INFO - allennlp.common.params - model.encoder.bidirectional = True\n",
            "2019-12-24 17:50:33,038 - INFO - allennlp.common.params - model.encoder.hidden_size = 64\n",
            "2019-12-24 17:50:33,038 - INFO - allennlp.common.params - model.encoder.input_size = 100\n",
            "2019-12-24 17:50:33,038 - INFO - allennlp.common.params - model.encoder.num_layers = 1\n",
            "2019-12-24 17:50:33,038 - INFO - allennlp.common.params - model.encoder.batch_first = True\n",
            "2019-12-24 17:50:33,040 - INFO - allennlp.common.from_params - instantiating class <class 'allennlp.modules.seq2seq_encoders.seq2seq_encoder.Seq2SeqEncoder'> from params {'bidirectional': True, 'hidden_size': 64, 'input_size': 128, 'num_layers': 1, 'type': 'lstm'} and extras {'vocab'}\n",
            "2019-12-24 17:50:33,040 - INFO - allennlp.common.params - model.attention.type = lstm\n",
            "2019-12-24 17:50:33,040 - INFO - allennlp.common.params - model.attention.batch_first = True\n",
            "2019-12-24 17:50:33,041 - INFO - allennlp.common.params - model.attention.stateful = False\n",
            "2019-12-24 17:50:33,041 - INFO - allennlp.common.params - Converting Params object to dict; logging of default values will not occur when dictionary parameters are used subsequently.\n",
            "2019-12-24 17:50:33,041 - INFO - allennlp.common.params - CURRENTLY DEFINED PARAMETERS: \n",
            "2019-12-24 17:50:33,041 - INFO - allennlp.common.params - model.attention.bidirectional = True\n",
            "2019-12-24 17:50:33,042 - INFO - allennlp.common.params - model.attention.hidden_size = 64\n",
            "2019-12-24 17:50:33,042 - INFO - allennlp.common.params - model.attention.input_size = 128\n",
            "2019-12-24 17:50:33,042 - INFO - allennlp.common.params - model.attention.num_layers = 1\n",
            "2019-12-24 17:50:33,042 - INFO - allennlp.common.params - model.attention.batch_first = True\n",
            "2019-12-24 17:50:33,044 - INFO - allennlp.common.from_params - instantiating class <class 'allennlp.modules.feedforward.FeedForward'> from params {'activations': ['linear', 'linear', 'sigmoid'], 'hidden_dims': [64, 32, 1], 'input_dim': 128, 'num_layers': 3} and extras {'vocab'}\n",
            "2019-12-24 17:50:33,044 - INFO - allennlp.common.params - model.classifier.input_dim = 128\n",
            "2019-12-24 17:50:33,045 - INFO - allennlp.common.params - model.classifier.num_layers = 3\n",
            "2019-12-24 17:50:33,045 - INFO - allennlp.common.params - model.classifier.hidden_dims = [64, 32, 1]\n",
            "2019-12-24 17:50:33,046 - INFO - allennlp.common.params - model.classifier.hidden_dims = [64, 32, 1]\n",
            "2019-12-24 17:50:33,046 - INFO - allennlp.common.params - model.classifier.activations = ['linear', 'linear', 'sigmoid']\n",
            "2019-12-24 17:50:33,046 - INFO - allennlp.common.from_params - instantiating class <class 'allennlp.nn.activations.Activation'> from params ['linear', 'linear', 'sigmoid'] and extras {'vocab'}\n",
            "2019-12-24 17:50:33,047 - INFO - allennlp.common.params - model.classifier.activations = ['linear', 'linear', 'sigmoid']\n",
            "2019-12-24 17:50:33,047 - INFO - allennlp.common.from_params - instantiating class <class 'allennlp.nn.activations.Activation'> from params linear and extras {'vocab'}\n",
            "2019-12-24 17:50:33,047 - INFO - allennlp.common.params - type = linear\n",
            "2019-12-24 17:50:33,048 - INFO - allennlp.common.from_params - instantiating class <class 'allennlp.nn.activations.Activation'> from params linear and extras {'vocab'}\n",
            "2019-12-24 17:50:33,048 - INFO - allennlp.common.params - type = linear\n",
            "2019-12-24 17:50:33,049 - INFO - allennlp.common.from_params - instantiating class <class 'allennlp.nn.activations.Activation'> from params sigmoid and extras {'vocab'}\n",
            "2019-12-24 17:50:33,049 - INFO - allennlp.common.params - type = sigmoid\n",
            "2019-12-24 17:50:33,049 - INFO - allennlp.common.params - model.classifier.dropout = 0.0\n",
            "2019-12-24 17:50:33,199 - INFO - allennlp.common.from_params - instantiating class <class 'allennlp.data.iterators.data_iterator.DataIterator'> from params {'batch_size': 1, 'sorting_keys': [['content', 'list_num_tokens']], 'type': 'bucket'} and extras set()\n",
            "2019-12-24 17:50:33,199 - INFO - allennlp.common.params - iterator.type = bucket\n",
            "2019-12-24 17:50:33,200 - INFO - allennlp.common.from_params - instantiating class <class 'allennlp.data.iterators.bucket_iterator.BucketIterator'> from params {'batch_size': 1, 'sorting_keys': [['content', 'list_num_tokens']]} and extras set()\n",
            "2019-12-24 17:50:33,200 - INFO - allennlp.common.params - iterator.sorting_keys = [['content', 'list_num_tokens']]\n",
            "2019-12-24 17:50:33,201 - INFO - allennlp.common.params - iterator.padding_noise = 0.1\n",
            "2019-12-24 17:50:33,201 - INFO - allennlp.common.params - iterator.biggest_batch_first = False\n",
            "2019-12-24 17:50:33,201 - INFO - allennlp.common.params - iterator.batch_size = 1\n",
            "2019-12-24 17:50:33,202 - INFO - allennlp.common.params - iterator.instances_per_epoch = None\n",
            "2019-12-24 17:50:33,202 - INFO - allennlp.common.params - iterator.max_instances_in_memory = None\n",
            "2019-12-24 17:50:33,202 - INFO - allennlp.common.params - iterator.cache_instances = False\n",
            "2019-12-24 17:50:33,202 - INFO - allennlp.common.params - iterator.track_epoch = False\n",
            "2019-12-24 17:50:33,203 - INFO - allennlp.common.params - iterator.maximum_samples_per_batch = None\n",
            "2019-12-24 17:50:33,203 - INFO - allennlp.common.params - iterator.skip_smaller_batches = False\n",
            "2019-12-24 17:50:33,203 - INFO - allennlp.common.params - validation_iterator = None\n",
            "2019-12-24 17:50:33,204 - INFO - allennlp.common.params - trainer.no_grad = ()\n",
            "2019-12-24 17:50:33,204 - INFO - allennlp.training.trainer_pieces - Following parameters are Frozen  (without gradient):\n",
            "2019-12-24 17:50:33,204 - INFO - allennlp.training.trainer_pieces - word_embeddings.token_embedder_tokens.weight\n",
            "2019-12-24 17:50:33,205 - INFO - allennlp.training.trainer_pieces - Following parameters are Tunable (with gradient):\n",
            "2019-12-24 17:50:33,205 - INFO - allennlp.training.trainer_pieces - encoder._module.weight_ih_l0\n",
            "2019-12-24 17:50:33,205 - INFO - allennlp.training.trainer_pieces - encoder._module.weight_hh_l0\n",
            "2019-12-24 17:50:33,205 - INFO - allennlp.training.trainer_pieces - encoder._module.bias_ih_l0\n",
            "2019-12-24 17:50:33,206 - INFO - allennlp.training.trainer_pieces - encoder._module.bias_hh_l0\n",
            "2019-12-24 17:50:33,206 - INFO - allennlp.training.trainer_pieces - encoder._module.weight_ih_l0_reverse\n",
            "2019-12-24 17:50:33,206 - INFO - allennlp.training.trainer_pieces - encoder._module.weight_hh_l0_reverse\n",
            "2019-12-24 17:50:33,206 - INFO - allennlp.training.trainer_pieces - encoder._module.bias_ih_l0_reverse\n",
            "2019-12-24 17:50:33,207 - INFO - allennlp.training.trainer_pieces - encoder._module.bias_hh_l0_reverse\n",
            "2019-12-24 17:50:33,207 - INFO - allennlp.training.trainer_pieces - attention._module.weight_ih_l0\n",
            "2019-12-24 17:50:33,209 - INFO - allennlp.training.trainer_pieces - attention._module.weight_hh_l0\n",
            "2019-12-24 17:50:33,209 - INFO - allennlp.training.trainer_pieces - attention._module.bias_ih_l0\n",
            "2019-12-24 17:50:33,209 - INFO - allennlp.training.trainer_pieces - attention._module.bias_hh_l0\n",
            "2019-12-24 17:50:33,210 - INFO - allennlp.training.trainer_pieces - attention._module.weight_ih_l0_reverse\n",
            "2019-12-24 17:50:33,210 - INFO - allennlp.training.trainer_pieces - attention._module.weight_hh_l0_reverse\n",
            "2019-12-24 17:50:33,210 - INFO - allennlp.training.trainer_pieces - attention._module.bias_ih_l0_reverse\n",
            "2019-12-24 17:50:33,211 - INFO - allennlp.training.trainer_pieces - attention._module.bias_hh_l0_reverse\n",
            "2019-12-24 17:50:33,211 - INFO - allennlp.training.trainer_pieces - classifier._linear_layers.0.weight\n",
            "2019-12-24 17:50:33,212 - INFO - allennlp.training.trainer_pieces - classifier._linear_layers.0.bias\n",
            "2019-12-24 17:50:33,212 - INFO - allennlp.training.trainer_pieces - classifier._linear_layers.1.weight\n",
            "2019-12-24 17:50:33,212 - INFO - allennlp.training.trainer_pieces - classifier._linear_layers.1.bias\n",
            "2019-12-24 17:50:33,212 - INFO - allennlp.training.trainer_pieces - classifier._linear_layers.2.weight\n",
            "2019-12-24 17:50:33,213 - INFO - allennlp.training.trainer_pieces - classifier._linear_layers.2.bias\n",
            "2019-12-24 17:50:33,213 - INFO - allennlp.common.params - trainer.patience = 50\n",
            "2019-12-24 17:50:33,213 - INFO - allennlp.common.params - trainer.validation_metric = +accuracy\n",
            "2019-12-24 17:50:33,213 - INFO - allennlp.common.params - trainer.shuffle = True\n",
            "2019-12-24 17:50:33,214 - INFO - allennlp.common.params - trainer.num_epochs = 50\n",
            "2019-12-24 17:50:33,214 - INFO - allennlp.common.params - trainer.cuda_device = 0\n",
            "2019-12-24 17:50:33,214 - INFO - allennlp.common.params - trainer.grad_norm = None\n",
            "2019-12-24 17:50:33,214 - INFO - allennlp.common.params - trainer.grad_clipping = 5\n",
            "2019-12-24 17:50:33,215 - INFO - allennlp.common.params - trainer.learning_rate_scheduler = None\n",
            "2019-12-24 17:50:33,215 - INFO - allennlp.common.params - trainer.momentum_scheduler = None\n",
            "2019-12-24 17:50:42,384 - INFO - allennlp.common.params - trainer.optimizer.type = adagrad\n",
            "2019-12-24 17:50:42,385 - INFO - allennlp.common.params - trainer.optimizer.parameter_groups = None\n",
            "2019-12-24 17:50:42,387 - INFO - allennlp.training.optimizers - Number of trainable parameters: 194689\n",
            "2019-12-24 17:50:42,388 - INFO - allennlp.common.params - trainer.optimizer.infer_type_and_cast = True\n",
            "2019-12-24 17:50:42,388 - INFO - allennlp.common.params - Converting Params object to dict; logging of default values will not occur when dictionary parameters are used subsequently.\n",
            "2019-12-24 17:50:42,389 - INFO - allennlp.common.params - CURRENTLY DEFINED PARAMETERS: \n",
            "2019-12-24 17:50:42,389 - INFO - allennlp.common.registrable - instantiating registered subclass adagrad of <class 'allennlp.training.optimizers.Optimizer'>\n",
            "2019-12-24 17:50:42,390 - INFO - allennlp.common.params - trainer.num_serialized_models_to_keep = 20\n",
            "2019-12-24 17:50:42,390 - INFO - allennlp.common.params - trainer.keep_serialized_model_every_num_seconds = None\n",
            "2019-12-24 17:50:42,390 - INFO - allennlp.common.params - trainer.model_save_interval = None\n",
            "2019-12-24 17:50:42,390 - INFO - allennlp.common.params - trainer.summary_interval = 100\n",
            "2019-12-24 17:50:42,391 - INFO - allennlp.common.params - trainer.histogram_interval = None\n",
            "2019-12-24 17:50:42,391 - INFO - allennlp.common.params - trainer.should_log_parameter_statistics = True\n",
            "2019-12-24 17:50:42,391 - INFO - allennlp.common.params - trainer.should_log_learning_rate = False\n",
            "2019-12-24 17:50:42,391 - INFO - allennlp.common.params - trainer.log_batch_size_period = None\n",
            "2019-12-24 17:50:42,404 - INFO - allennlp.training.trainer - Beginning training.\n",
            "2019-12-24 17:50:42,404 - INFO - allennlp.training.trainer - Epoch 0/49\n",
            "2019-12-24 17:50:42,404 - INFO - allennlp.training.trainer - Peak CPU memory usage MB: 2682.332\n",
            "2019-12-24 17:50:42,473 - INFO - allennlp.training.trainer - GPU 0 memory usage MB: 741\n",
            "2019-12-24 17:50:42,474 - INFO - allennlp.training.trainer - Training\n",
            "accuracy: 0.6485, loss: 0.2182 ||: 100%|##########| 1774/1774 [00:31<00:00, 67.44it/s]\n",
            "2019-12-24 17:51:14,042 - INFO - allennlp.training.trainer - Validating\n",
            "accuracy: 0.6360, loss: 0.2225 ||: 100%|##########| 450/450 [00:03<00:00, 126.18it/s]\n",
            "2019-12-24 17:51:17,609 - INFO - allennlp.training.tensorboard_writer -                     Training |  Validation\n",
            "2019-12-24 17:51:17,610 - INFO - allennlp.training.tensorboard_writer - loss            |     0.218  |     0.222\n",
            "2019-12-24 17:51:17,615 - INFO - allennlp.training.tensorboard_writer - gpu_0_memory_MB |   741.000  |       N/A\n",
            "2019-12-24 17:51:17,615 - INFO - allennlp.training.tensorboard_writer - cpu_memory_MB   |  2682.332  |       N/A\n",
            "2019-12-24 17:51:17,616 - INFO - allennlp.training.tensorboard_writer - accuracy        |     0.648  |     0.636\n",
            "2019-12-24 17:51:17,719 - INFO - allennlp.training.checkpointer - Best validation performance so far. Copying weights to 'summarizer/best.th'.\n",
            "2019-12-24 17:51:17,830 - INFO - allennlp.training.trainer - Epoch duration: 0:00:35.426406\n",
            "2019-12-24 17:51:17,832 - INFO - allennlp.training.trainer - Estimated training time remaining: 0:28:55\n",
            "2019-12-24 17:51:17,832 - INFO - allennlp.training.trainer - Epoch 1/49\n",
            "2019-12-24 17:51:17,833 - INFO - allennlp.training.trainer - Peak CPU memory usage MB: 2763.388\n",
            "2019-12-24 17:51:17,901 - INFO - allennlp.training.trainer - GPU 0 memory usage MB: 801\n",
            "2019-12-24 17:51:17,902 - INFO - allennlp.training.trainer - Training\n",
            "accuracy: 0.6816, loss: 0.2038 ||: 100%|##########| 1774/1774 [00:28<00:00, 61.69it/s]\n",
            "2019-12-24 17:51:46,661 - INFO - allennlp.training.trainer - Validating\n",
            "accuracy: 0.6457, loss: 0.2185 ||: 100%|##########| 450/450 [00:03<00:00, 136.48it/s]\n",
            "2019-12-24 17:51:49,959 - INFO - allennlp.training.tensorboard_writer -                     Training |  Validation\n",
            "2019-12-24 17:51:49,960 - INFO - allennlp.training.tensorboard_writer - loss            |     0.204  |     0.219\n",
            "2019-12-24 17:51:49,960 - INFO - allennlp.training.tensorboard_writer - gpu_0_memory_MB |   801.000  |       N/A\n",
            "2019-12-24 17:51:49,964 - INFO - allennlp.training.tensorboard_writer - cpu_memory_MB   |  2763.388  |       N/A\n",
            "2019-12-24 17:51:49,965 - INFO - allennlp.training.tensorboard_writer - accuracy        |     0.682  |     0.646\n",
            "2019-12-24 17:51:50,067 - INFO - allennlp.training.checkpointer - Best validation performance so far. Copying weights to 'summarizer/best.th'.\n",
            "2019-12-24 17:51:50,220 - INFO - allennlp.training.trainer - Epoch duration: 0:00:32.387300\n",
            "2019-12-24 17:51:50,224 - INFO - allennlp.training.trainer - Estimated training time remaining: 0:27:07\n",
            "2019-12-24 17:51:50,224 - INFO - allennlp.training.trainer - Epoch 2/49\n",
            "2019-12-24 17:51:50,225 - INFO - allennlp.training.trainer - Peak CPU memory usage MB: 2763.804\n",
            "2019-12-24 17:51:50,290 - INFO - allennlp.training.trainer - GPU 0 memory usage MB: 801\n",
            "2019-12-24 17:51:50,291 - INFO - allennlp.training.trainer - Training\n",
            "accuracy: 0.6957, loss: 0.1966 ||: 100%|##########| 1774/1774 [00:30<00:00, 58.89it/s]\n",
            "2019-12-24 17:52:20,417 - INFO - allennlp.training.trainer - Validating\n",
            "accuracy: 0.6463, loss: 0.2191 ||: 100%|##########| 450/450 [00:03<00:00, 143.19it/s]\n",
            "2019-12-24 17:52:23,561 - INFO - allennlp.training.tensorboard_writer -                     Training |  Validation\n",
            "2019-12-24 17:52:23,561 - INFO - allennlp.training.tensorboard_writer - loss            |     0.197  |     0.219\n",
            "2019-12-24 17:52:23,562 - INFO - allennlp.training.tensorboard_writer - gpu_0_memory_MB |   801.000  |       N/A\n",
            "2019-12-24 17:52:23,563 - INFO - allennlp.training.tensorboard_writer - cpu_memory_MB   |  2763.804  |       N/A\n",
            "2019-12-24 17:52:23,563 - INFO - allennlp.training.tensorboard_writer - accuracy        |     0.696  |     0.646\n",
            "2019-12-24 17:52:23,653 - INFO - allennlp.training.checkpointer - Best validation performance so far. Copying weights to 'summarizer/best.th'.\n",
            "2019-12-24 17:52:23,785 - INFO - allennlp.training.trainer - Epoch duration: 0:00:33.560062\n",
            "2019-12-24 17:52:23,785 - INFO - allennlp.training.trainer - Estimated training time remaining: 0:26:28\n",
            "2019-12-24 17:52:23,785 - INFO - allennlp.training.trainer - Epoch 3/49\n",
            "2019-12-24 17:52:23,786 - INFO - allennlp.training.trainer - Peak CPU memory usage MB: 2763.816\n",
            "2019-12-24 17:52:23,853 - INFO - allennlp.training.trainer - GPU 0 memory usage MB: 801\n",
            "2019-12-24 17:52:23,854 - INFO - allennlp.training.trainer - Training\n",
            "accuracy: 0.7064, loss: 0.1899 ||: 100%|##########| 1774/1774 [00:28<00:00, 61.92it/s]\n",
            "2019-12-24 17:52:52,505 - INFO - allennlp.training.trainer - Validating\n",
            "accuracy: 0.6506, loss: 0.2188 ||: 100%|##########| 450/450 [00:03<00:00, 142.65it/s]\n",
            "2019-12-24 17:52:55,661 - INFO - allennlp.training.tensorboard_writer -                     Training |  Validation\n",
            "2019-12-24 17:52:55,661 - INFO - allennlp.training.tensorboard_writer - loss            |     0.190  |     0.219\n",
            "2019-12-24 17:52:55,662 - INFO - allennlp.training.tensorboard_writer - gpu_0_memory_MB |   801.000  |       N/A\n",
            "2019-12-24 17:52:55,662 - INFO - allennlp.training.tensorboard_writer - cpu_memory_MB   |  2763.816  |       N/A\n",
            "2019-12-24 17:52:55,664 - INFO - allennlp.training.tensorboard_writer - accuracy        |     0.706  |     0.651\n",
            "2019-12-24 17:52:55,758 - INFO - allennlp.training.checkpointer - Best validation performance so far. Copying weights to 'summarizer/best.th'.\n",
            "2019-12-24 17:52:55,902 - INFO - allennlp.training.trainer - Epoch duration: 0:00:32.116135\n",
            "2019-12-24 17:52:55,903 - INFO - allennlp.training.trainer - Estimated training time remaining: 0:25:35\n",
            "2019-12-24 17:52:55,903 - INFO - allennlp.training.trainer - Epoch 4/49\n",
            "2019-12-24 17:52:55,904 - INFO - allennlp.training.trainer - Peak CPU memory usage MB: 2763.972\n",
            "2019-12-24 17:52:55,972 - INFO - allennlp.training.trainer - GPU 0 memory usage MB: 801\n",
            "2019-12-24 17:52:55,973 - INFO - allennlp.training.trainer - Training\n",
            "accuracy: 0.7185, loss: 0.1829 ||: 100%|##########| 1774/1774 [00:29<00:00, 59.71it/s]\n",
            "2019-12-24 17:53:25,682 - INFO - allennlp.training.trainer - Validating\n",
            "accuracy: 0.6488, loss: 0.2201 ||: 100%|##########| 450/450 [00:03<00:00, 137.63it/s]\n",
            "2019-12-24 17:53:28,953 - INFO - allennlp.training.tensorboard_writer -                     Training |  Validation\n",
            "2019-12-24 17:53:28,954 - INFO - allennlp.training.tensorboard_writer - loss            |     0.183  |     0.220\n",
            "2019-12-24 17:53:28,955 - INFO - allennlp.training.tensorboard_writer - gpu_0_memory_MB |   801.000  |       N/A\n",
            "2019-12-24 17:53:28,956 - INFO - allennlp.training.tensorboard_writer - cpu_memory_MB   |  2763.972  |       N/A\n",
            "2019-12-24 17:53:28,956 - INFO - allennlp.training.tensorboard_writer - accuracy        |     0.719  |     0.649\n",
            "2019-12-24 17:53:29,044 - INFO - allennlp.training.trainer - Epoch duration: 0:00:33.140528\n",
            "2019-12-24 17:53:29,044 - INFO - allennlp.training.trainer - Estimated training time remaining: 0:24:59\n",
            "2019-12-24 17:53:29,044 - INFO - allennlp.training.trainer - Epoch 5/49\n",
            "2019-12-24 17:53:29,045 - INFO - allennlp.training.trainer - Peak CPU memory usage MB: 2763.972\n",
            "2019-12-24 17:53:29,105 - INFO - allennlp.training.trainer - GPU 0 memory usage MB: 801\n",
            "2019-12-24 17:53:29,106 - INFO - allennlp.training.trainer - Training\n",
            "accuracy: 0.7305, loss: 0.1750 ||: 100%|##########| 1774/1774 [00:28<00:00, 62.32it/s]\n",
            "2019-12-24 17:53:57,572 - INFO - allennlp.training.trainer - Validating\n",
            "accuracy: 0.6392, loss: 0.2238 ||: 100%|##########| 450/450 [00:03<00:00, 136.03it/s]\n",
            "2019-12-24 17:54:00,881 - INFO - allennlp.training.tensorboard_writer -                     Training |  Validation\n",
            "2019-12-24 17:54:00,882 - INFO - allennlp.training.tensorboard_writer - loss            |     0.175  |     0.224\n",
            "2019-12-24 17:54:00,883 - INFO - allennlp.training.tensorboard_writer - gpu_0_memory_MB |   801.000  |       N/A\n",
            "2019-12-24 17:54:00,883 - INFO - allennlp.training.tensorboard_writer - cpu_memory_MB   |  2763.972  |       N/A\n",
            "2019-12-24 17:54:00,884 - INFO - allennlp.training.tensorboard_writer - accuracy        |     0.731  |     0.639\n",
            "2019-12-24 17:54:00,975 - INFO - allennlp.training.trainer - Epoch duration: 0:00:31.930179\n",
            "2019-12-24 17:54:00,975 - INFO - allennlp.training.trainer - Estimated training time remaining: 0:24:16\n",
            "2019-12-24 17:54:00,976 - INFO - allennlp.training.trainer - Epoch 6/49\n",
            "2019-12-24 17:54:00,976 - INFO - allennlp.training.trainer - Peak CPU memory usage MB: 2763.976\n",
            "2019-12-24 17:54:01,044 - INFO - allennlp.training.trainer - GPU 0 memory usage MB: 801\n",
            "2019-12-24 17:54:01,044 - INFO - allennlp.training.trainer - Training\n",
            "accuracy: 0.7432, loss: 0.1671 ||: 100%|##########| 1774/1774 [00:29<00:00, 59.29it/s]\n",
            "2019-12-24 17:54:30,967 - INFO - allennlp.training.trainer - Validating\n",
            "accuracy: 0.6454, loss: 0.2257 ||: 100%|##########| 450/450 [00:03<00:00, 140.71it/s]\n",
            "2019-12-24 17:54:34,167 - INFO - allennlp.training.tensorboard_writer -                     Training |  Validation\n",
            "2019-12-24 17:54:34,168 - INFO - allennlp.training.tensorboard_writer - loss            |     0.167  |     0.226\n",
            "2019-12-24 17:54:34,169 - INFO - allennlp.training.tensorboard_writer - gpu_0_memory_MB |   801.000  |       N/A\n",
            "2019-12-24 17:54:34,169 - INFO - allennlp.training.tensorboard_writer - cpu_memory_MB   |  2763.976  |       N/A\n",
            "2019-12-24 17:54:34,170 - INFO - allennlp.training.tensorboard_writer - accuracy        |     0.743  |     0.645\n",
            "2019-12-24 17:54:34,273 - INFO - allennlp.training.trainer - Epoch duration: 0:00:33.297257\n",
            "2019-12-24 17:54:34,274 - INFO - allennlp.training.trainer - Estimated training time remaining: 0:23:44\n",
            "2019-12-24 17:54:34,274 - INFO - allennlp.training.trainer - Epoch 7/49\n",
            "2019-12-24 17:54:34,274 - INFO - allennlp.training.trainer - Peak CPU memory usage MB: 2763.976\n",
            "2019-12-24 17:54:34,341 - INFO - allennlp.training.trainer - GPU 0 memory usage MB: 801\n",
            "2019-12-24 17:54:34,341 - INFO - allennlp.training.trainer - Training\n",
            "accuracy: 0.7560, loss: 0.1583 ||: 100%|##########| 1774/1774 [00:28<00:00, 68.42it/s]\n",
            "2019-12-24 17:55:02,715 - INFO - allennlp.training.trainer - Validating\n",
            "accuracy: 0.6428, loss: 0.2330 ||: 100%|##########| 450/450 [00:03<00:00, 124.22it/s]\n",
            "2019-12-24 17:55:05,947 - INFO - allennlp.training.tensorboard_writer -                     Training |  Validation\n",
            "2019-12-24 17:55:05,947 - INFO - allennlp.training.tensorboard_writer - loss            |     0.158  |     0.233\n",
            "2019-12-24 17:55:05,948 - INFO - allennlp.training.tensorboard_writer - gpu_0_memory_MB |   801.000  |       N/A\n",
            "2019-12-24 17:55:05,948 - INFO - allennlp.training.tensorboard_writer - cpu_memory_MB   |  2763.976  |       N/A\n",
            "2019-12-24 17:55:05,949 - INFO - allennlp.training.tensorboard_writer - accuracy        |     0.756  |     0.643\n",
            "2019-12-24 17:55:06,038 - INFO - allennlp.training.trainer - Epoch duration: 0:00:31.764374\n",
            "2019-12-24 17:55:06,039 - INFO - allennlp.training.trainer - Estimated training time remaining: 0:23:04\n",
            "2019-12-24 17:55:06,039 - INFO - allennlp.training.trainer - Epoch 8/49\n",
            "2019-12-24 17:55:06,040 - INFO - allennlp.training.trainer - Peak CPU memory usage MB: 2763.976\n",
            "2019-12-24 17:55:06,104 - INFO - allennlp.training.trainer - GPU 0 memory usage MB: 801\n",
            "2019-12-24 17:55:06,105 - INFO - allennlp.training.trainer - Training\n",
            "accuracy: 0.7686, loss: 0.1493 ||: 100%|##########| 1774/1774 [00:29<00:00, 60.06it/s]\n",
            "2019-12-24 17:55:35,644 - INFO - allennlp.training.trainer - Validating\n",
            "accuracy: 0.6354, loss: 0.2392 ||: 100%|##########| 450/450 [00:03<00:00, 142.79it/s]\n",
            "2019-12-24 17:55:38,797 - INFO - allennlp.training.tensorboard_writer -                     Training |  Validation\n",
            "2019-12-24 17:55:38,799 - INFO - allennlp.training.tensorboard_writer - loss            |     0.149  |     0.239\n",
            "2019-12-24 17:55:38,800 - INFO - allennlp.training.tensorboard_writer - gpu_0_memory_MB |   801.000  |       N/A\n",
            "2019-12-24 17:55:38,801 - INFO - allennlp.training.tensorboard_writer - cpu_memory_MB   |  2763.976  |       N/A\n",
            "2019-12-24 17:55:38,802 - INFO - allennlp.training.tensorboard_writer - accuracy        |     0.769  |     0.635\n",
            "2019-12-24 17:55:38,884 - INFO - allennlp.training.trainer - Epoch duration: 0:00:32.844811\n",
            "2019-12-24 17:55:38,885 - INFO - allennlp.training.trainer - Estimated training time remaining: 0:22:30\n",
            "2019-12-24 17:55:38,885 - INFO - allennlp.training.trainer - Epoch 9/49\n",
            "2019-12-24 17:55:38,886 - INFO - allennlp.training.trainer - Peak CPU memory usage MB: 2763.976\n",
            "2019-12-24 17:55:38,950 - INFO - allennlp.training.trainer - GPU 0 memory usage MB: 801\n",
            "2019-12-24 17:55:38,952 - INFO - allennlp.training.trainer - Training\n",
            "accuracy: 0.7836, loss: 0.1411 ||: 100%|##########| 1774/1774 [00:28<00:00, 62.96it/s]\n",
            "2019-12-24 17:56:07,128 - INFO - allennlp.training.trainer - Validating\n",
            "accuracy: 0.6422, loss: 0.2476 ||: 100%|##########| 450/450 [00:03<00:00, 140.68it/s]\n",
            "2019-12-24 17:56:10,328 - INFO - allennlp.training.tensorboard_writer -                     Training |  Validation\n",
            "2019-12-24 17:56:10,329 - INFO - allennlp.training.tensorboard_writer - loss            |     0.141  |     0.248\n",
            "2019-12-24 17:56:10,331 - INFO - allennlp.training.tensorboard_writer - gpu_0_memory_MB |   801.000  |       N/A\n",
            "2019-12-24 17:56:10,331 - INFO - allennlp.training.tensorboard_writer - cpu_memory_MB   |  2763.976  |       N/A\n",
            "2019-12-24 17:56:10,332 - INFO - allennlp.training.tensorboard_writer - accuracy        |     0.784  |     0.642\n",
            "2019-12-24 17:56:10,445 - INFO - allennlp.training.trainer - Epoch duration: 0:00:31.559145\n",
            "2019-12-24 17:56:10,445 - INFO - allennlp.training.trainer - Estimated training time remaining: 0:21:52\n",
            "2019-12-24 17:56:10,446 - INFO - allennlp.training.trainer - Epoch 10/49\n",
            "2019-12-24 17:56:10,446 - INFO - allennlp.training.trainer - Peak CPU memory usage MB: 2763.976\n",
            "2019-12-24 17:56:10,514 - INFO - allennlp.training.trainer - GPU 0 memory usage MB: 801\n",
            "2019-12-24 17:56:10,515 - INFO - allennlp.training.trainer - Training\n",
            "accuracy: 0.7943, loss: 0.1327 ||: 100%|##########| 1774/1774 [00:29<00:00, 62.09it/s]\n",
            "2019-12-24 17:56:39,773 - INFO - allennlp.training.trainer - Validating\n",
            "accuracy: 0.6385, loss: 0.2542 ||: 100%|##########| 450/450 [00:03<00:00, 138.32it/s]\n",
            "2019-12-24 17:56:43,028 - INFO - allennlp.training.tensorboard_writer -                     Training |  Validation\n",
            "2019-12-24 17:56:43,029 - INFO - allennlp.training.tensorboard_writer - loss            |     0.133  |     0.254\n",
            "2019-12-24 17:56:43,029 - INFO - allennlp.training.tensorboard_writer - gpu_0_memory_MB |   801.000  |       N/A\n",
            "2019-12-24 17:56:43,030 - INFO - allennlp.training.tensorboard_writer - cpu_memory_MB   |  2763.976  |       N/A\n",
            "2019-12-24 17:56:43,031 - INFO - allennlp.training.tensorboard_writer - accuracy        |     0.794  |     0.638\n",
            "2019-12-24 17:56:43,131 - INFO - allennlp.training.trainer - Epoch duration: 0:00:32.685403\n",
            "2019-12-24 17:56:43,132 - INFO - allennlp.training.trainer - Estimated training time remaining: 0:21:18\n",
            "2019-12-24 17:56:43,133 - INFO - allennlp.training.trainer - Epoch 11/49\n",
            "2019-12-24 17:56:43,133 - INFO - allennlp.training.trainer - Peak CPU memory usage MB: 2763.976\n",
            "2019-12-24 17:56:43,199 - INFO - allennlp.training.trainer - GPU 0 memory usage MB: 801\n",
            "2019-12-24 17:56:43,200 - INFO - allennlp.training.trainer - Training\n",
            "accuracy: 0.8086, loss: 0.1246 ||: 100%|##########| 1774/1774 [00:28<00:00, 62.48it/s]\n",
            "2019-12-24 17:57:11,593 - INFO - allennlp.training.trainer - Validating\n",
            "accuracy: 0.6373, loss: 0.2614 ||: 100%|##########| 450/450 [00:03<00:00, 140.75it/s]\n",
            "2019-12-24 17:57:14,791 - INFO - allennlp.training.tensorboard_writer -                     Training |  Validation\n",
            "2019-12-24 17:57:14,792 - INFO - allennlp.training.tensorboard_writer - loss            |     0.125  |     0.261\n",
            "2019-12-24 17:57:14,793 - INFO - allennlp.training.tensorboard_writer - gpu_0_memory_MB |   801.000  |       N/A\n",
            "2019-12-24 17:57:14,793 - INFO - allennlp.training.tensorboard_writer - cpu_memory_MB   |  2763.976  |       N/A\n",
            "2019-12-24 17:57:14,794 - INFO - allennlp.training.tensorboard_writer - accuracy        |     0.809  |     0.637\n",
            "2019-12-24 17:57:14,898 - INFO - allennlp.training.trainer - Epoch duration: 0:00:31.764816\n",
            "2019-12-24 17:57:14,898 - INFO - allennlp.training.trainer - Estimated training time remaining: 0:20:42\n",
            "2019-12-24 17:57:14,899 - INFO - allennlp.training.trainer - Epoch 12/49\n",
            "2019-12-24 17:57:14,899 - INFO - allennlp.training.trainer - Peak CPU memory usage MB: 2763.976\n",
            "2019-12-24 17:57:14,964 - INFO - allennlp.training.trainer - GPU 0 memory usage MB: 801\n",
            "2019-12-24 17:57:14,965 - INFO - allennlp.training.trainer - Training\n",
            "accuracy: 0.8170, loss: 0.1174 ||: 100%|##########| 1774/1774 [00:29<00:00, 60.34it/s]\n",
            "2019-12-24 17:57:44,366 - INFO - allennlp.training.trainer - Validating\n",
            "accuracy: 0.6191, loss: 0.2737 ||: 100%|##########| 450/450 [00:03<00:00, 142.68it/s]\n",
            "2019-12-24 17:57:47,521 - INFO - allennlp.training.tensorboard_writer -                     Training |  Validation\n",
            "2019-12-24 17:57:47,522 - INFO - allennlp.training.tensorboard_writer - loss            |     0.117  |     0.274\n",
            "2019-12-24 17:57:47,523 - INFO - allennlp.training.tensorboard_writer - gpu_0_memory_MB |   801.000  |       N/A\n",
            "2019-12-24 17:57:47,523 - INFO - allennlp.training.tensorboard_writer - cpu_memory_MB   |  2763.976  |       N/A\n",
            "2019-12-24 17:57:47,524 - INFO - allennlp.training.tensorboard_writer - accuracy        |     0.817  |     0.619\n",
            "2019-12-24 17:57:47,618 - INFO - allennlp.training.trainer - Epoch duration: 0:00:32.719435\n",
            "2019-12-24 17:57:47,619 - INFO - allennlp.training.trainer - Estimated training time remaining: 0:20:10\n",
            "2019-12-24 17:57:47,619 - INFO - allennlp.training.trainer - Epoch 13/49\n",
            "2019-12-24 17:57:47,619 - INFO - allennlp.training.trainer - Peak CPU memory usage MB: 2763.984\n",
            "2019-12-24 17:57:47,684 - INFO - allennlp.training.trainer - GPU 0 memory usage MB: 801\n",
            "2019-12-24 17:57:47,685 - INFO - allennlp.training.trainer - Training\n",
            "accuracy: 0.8290, loss: 0.1097 ||: 100%|##########| 1774/1774 [00:28<00:00, 61.77it/s]\n",
            "2019-12-24 17:58:16,406 - INFO - allennlp.training.trainer - Validating\n",
            "accuracy: 0.6193, loss: 0.2748 ||: 100%|##########| 450/450 [00:03<00:00, 143.46it/s]\n",
            "2019-12-24 17:58:19,544 - INFO - allennlp.training.tensorboard_writer -                     Training |  Validation\n",
            "2019-12-24 17:58:19,544 - INFO - allennlp.training.tensorboard_writer - loss            |     0.110  |     0.275\n",
            "2019-12-24 17:58:19,545 - INFO - allennlp.training.tensorboard_writer - gpu_0_memory_MB |   801.000  |       N/A\n",
            "2019-12-24 17:58:19,546 - INFO - allennlp.training.tensorboard_writer - cpu_memory_MB   |  2763.984  |       N/A\n",
            "2019-12-24 17:58:19,546 - INFO - allennlp.training.tensorboard_writer - accuracy        |     0.829  |     0.619\n",
            "2019-12-24 17:58:19,635 - INFO - allennlp.training.trainer - Epoch duration: 0:00:32.016034\n",
            "2019-12-24 17:58:19,636 - INFO - allennlp.training.trainer - Estimated training time remaining: 0:19:35\n",
            "2019-12-24 17:58:19,636 - INFO - allennlp.training.trainer - Epoch 14/49\n",
            "2019-12-24 17:58:19,636 - INFO - allennlp.training.trainer - Peak CPU memory usage MB: 2763.984\n",
            "2019-12-24 17:58:19,700 - INFO - allennlp.training.trainer - GPU 0 memory usage MB: 801\n",
            "2019-12-24 17:58:19,701 - INFO - allennlp.training.trainer - Training\n",
            "accuracy: 0.8363, loss: 0.1035 ||: 100%|##########| 1774/1774 [00:28<00:00, 62.41it/s]\n",
            "2019-12-24 17:58:48,126 - INFO - allennlp.training.trainer - Validating\n",
            "accuracy: 0.6272, loss: 0.2819 ||: 100%|##########| 450/450 [00:03<00:00, 120.78it/s]\n",
            "2019-12-24 17:58:51,853 - INFO - allennlp.training.tensorboard_writer -                     Training |  Validation\n",
            "2019-12-24 17:58:51,853 - INFO - allennlp.training.tensorboard_writer - loss            |     0.104  |     0.282\n",
            "2019-12-24 17:58:51,854 - INFO - allennlp.training.tensorboard_writer - gpu_0_memory_MB |   801.000  |       N/A\n",
            "2019-12-24 17:58:51,854 - INFO - allennlp.training.tensorboard_writer - cpu_memory_MB   |  2763.984  |       N/A\n",
            "2019-12-24 17:58:51,855 - INFO - allennlp.training.tensorboard_writer - accuracy        |     0.836  |     0.627\n",
            "2019-12-24 17:58:52,496 - INFO - allennlp.training.trainer - Epoch duration: 0:00:32.859818\n",
            "2019-12-24 17:58:52,497 - INFO - allennlp.training.trainer - Estimated training time remaining: 0:19:03\n",
            "2019-12-24 17:58:52,497 - INFO - allennlp.training.trainer - Epoch 15/49\n",
            "2019-12-24 17:58:52,497 - INFO - allennlp.training.trainer - Peak CPU memory usage MB: 2763.984\n",
            "2019-12-24 17:58:52,567 - INFO - allennlp.training.trainer - GPU 0 memory usage MB: 801\n",
            "2019-12-24 17:58:52,568 - INFO - allennlp.training.trainer - Training\n",
            "accuracy: 0.8470, loss: 0.0966 ||: 100%|##########| 1774/1774 [00:27<00:00, 64.09it/s]\n",
            "2019-12-24 17:59:20,249 - INFO - allennlp.training.trainer - Validating\n",
            "accuracy: 0.6182, loss: 0.2905 ||: 100%|##########| 450/450 [00:03<00:00, 142.01it/s]\n",
            "2019-12-24 17:59:23,419 - INFO - allennlp.training.tensorboard_writer -                     Training |  Validation\n",
            "2019-12-24 17:59:23,420 - INFO - allennlp.training.tensorboard_writer - loss            |     0.097  |     0.291\n",
            "2019-12-24 17:59:23,420 - INFO - allennlp.training.tensorboard_writer - gpu_0_memory_MB |   801.000  |       N/A\n",
            "2019-12-24 17:59:23,421 - INFO - allennlp.training.tensorboard_writer - cpu_memory_MB   |  2763.984  |       N/A\n",
            "2019-12-24 17:59:23,422 - INFO - allennlp.training.tensorboard_writer - accuracy        |     0.847  |     0.618\n",
            "2019-12-24 17:59:23,511 - INFO - allennlp.training.trainer - Epoch duration: 0:00:31.014343\n",
            "2019-12-24 17:59:23,512 - INFO - allennlp.training.trainer - Estimated training time remaining: 0:18:27\n",
            "2019-12-24 17:59:23,512 - INFO - allennlp.training.trainer - Epoch 16/49\n",
            "2019-12-24 17:59:23,512 - INFO - allennlp.training.trainer - Peak CPU memory usage MB: 2763.984\n",
            "2019-12-24 17:59:23,579 - INFO - allennlp.training.trainer - GPU 0 memory usage MB: 801\n",
            "2019-12-24 17:59:23,580 - INFO - allennlp.training.trainer - Training\n",
            "accuracy: 0.8554, loss: 0.0907 ||: 100%|##########| 1774/1774 [00:28<00:00, 66.87it/s]\n",
            "2019-12-24 17:59:52,291 - INFO - allennlp.training.trainer - Validating\n",
            "accuracy: 0.6252, loss: 0.2945 ||: 100%|##########| 450/450 [00:04<00:00, 102.15it/s]\n",
            "2019-12-24 17:59:56,698 - INFO - allennlp.training.tensorboard_writer -                     Training |  Validation\n",
            "2019-12-24 17:59:56,699 - INFO - allennlp.training.tensorboard_writer - loss            |     0.091  |     0.294\n",
            "2019-12-24 17:59:56,700 - INFO - allennlp.training.tensorboard_writer - gpu_0_memory_MB |   801.000  |       N/A\n",
            "2019-12-24 17:59:56,700 - INFO - allennlp.training.tensorboard_writer - cpu_memory_MB   |  2763.984  |       N/A\n",
            "2019-12-24 17:59:56,701 - INFO - allennlp.training.tensorboard_writer - accuracy        |     0.855  |     0.625\n",
            "2019-12-24 17:59:56,780 - INFO - allennlp.training.trainer - Epoch duration: 0:00:33.267766\n",
            "2019-12-24 17:59:56,781 - INFO - allennlp.training.trainer - Estimated training time remaining: 0:17:56\n",
            "2019-12-24 17:59:56,781 - INFO - allennlp.training.trainer - Epoch 17/49\n",
            "2019-12-24 17:59:56,781 - INFO - allennlp.training.trainer - Peak CPU memory usage MB: 2763.984\n",
            "2019-12-24 17:59:56,846 - INFO - allennlp.training.trainer - GPU 0 memory usage MB: 801\n",
            "2019-12-24 17:59:56,846 - INFO - allennlp.training.trainer - Training\n",
            "accuracy: 0.8671, loss: 0.0847 ||: 100%|##########| 1774/1774 [00:28<00:00, 62.98it/s]\n",
            "2019-12-24 18:00:25,014 - INFO - allennlp.training.trainer - Validating\n",
            "accuracy: 0.6144, loss: 0.3059 ||: 100%|##########| 450/450 [00:03<00:00, 139.93it/s]\n",
            "2019-12-24 18:00:28,231 - INFO - allennlp.training.tensorboard_writer -                     Training |  Validation\n",
            "2019-12-24 18:00:28,232 - INFO - allennlp.training.tensorboard_writer - loss            |     0.085  |     0.306\n",
            "2019-12-24 18:00:28,233 - INFO - allennlp.training.tensorboard_writer - gpu_0_memory_MB |   801.000  |       N/A\n",
            "2019-12-24 18:00:28,233 - INFO - allennlp.training.tensorboard_writer - cpu_memory_MB   |  2763.984  |       N/A\n",
            "2019-12-24 18:00:28,234 - INFO - allennlp.training.tensorboard_writer - accuracy        |     0.867  |     0.614\n",
            "2019-12-24 18:00:28,326 - INFO - allennlp.training.trainer - Epoch duration: 0:00:31.545199\n",
            "2019-12-24 18:00:28,327 - INFO - allennlp.training.trainer - Estimated training time remaining: 0:17:21\n",
            "2019-12-24 18:00:28,327 - INFO - allennlp.training.trainer - Epoch 18/49\n",
            "2019-12-24 18:00:28,327 - INFO - allennlp.training.trainer - Peak CPU memory usage MB: 2763.984\n",
            "2019-12-24 18:00:28,389 - INFO - allennlp.training.trainer - GPU 0 memory usage MB: 801\n",
            "2019-12-24 18:00:28,390 - INFO - allennlp.training.trainer - Training\n",
            "accuracy: 0.8732, loss: 0.0798 ||: 100%|##########| 1774/1774 [00:28<00:00, 62.35it/s]\n",
            "2019-12-24 18:00:56,843 - INFO - allennlp.training.trainer - Validating\n",
            "accuracy: 0.6156, loss: 0.3128 ||: 100%|##########| 450/450 [00:04<00:00, 102.25it/s]\n",
            "2019-12-24 18:01:01,245 - INFO - allennlp.training.tensorboard_writer -                     Training |  Validation\n",
            "2019-12-24 18:01:01,246 - INFO - allennlp.training.tensorboard_writer - loss            |     0.080  |     0.313\n",
            "2019-12-24 18:01:01,246 - INFO - allennlp.training.tensorboard_writer - gpu_0_memory_MB |   801.000  |       N/A\n",
            "2019-12-24 18:01:01,247 - INFO - allennlp.training.tensorboard_writer - cpu_memory_MB   |  2763.984  |       N/A\n",
            "2019-12-24 18:01:01,247 - INFO - allennlp.training.tensorboard_writer - accuracy        |     0.873  |     0.616\n",
            "2019-12-24 18:01:01,335 - INFO - allennlp.training.trainer - Epoch duration: 0:00:33.008305\n",
            "2019-12-24 18:01:01,336 - INFO - allennlp.training.trainer - Estimated training time remaining: 0:16:49\n",
            "2019-12-24 18:01:01,337 - INFO - allennlp.training.trainer - Epoch 19/49\n",
            "2019-12-24 18:01:01,337 - INFO - allennlp.training.trainer - Peak CPU memory usage MB: 2763.984\n",
            "2019-12-24 18:01:01,403 - INFO - allennlp.training.trainer - GPU 0 memory usage MB: 801\n",
            "2019-12-24 18:01:01,403 - INFO - allennlp.training.trainer - Training\n",
            "accuracy: 0.8830, loss: 0.0738 ||: 100%|##########| 1774/1774 [00:27<00:00, 63.54it/s]\n",
            "2019-12-24 18:01:29,326 - INFO - allennlp.training.trainer - Validating\n",
            "accuracy: 0.6165, loss: 0.3175 ||: 100%|##########| 450/450 [00:03<00:00, 142.64it/s]\n",
            "2019-12-24 18:01:32,481 - INFO - allennlp.training.tensorboard_writer -                     Training |  Validation\n",
            "2019-12-24 18:01:32,482 - INFO - allennlp.training.tensorboard_writer - loss            |     0.074  |     0.317\n",
            "2019-12-24 18:01:32,483 - INFO - allennlp.training.tensorboard_writer - gpu_0_memory_MB |   801.000  |       N/A\n",
            "2019-12-24 18:01:32,483 - INFO - allennlp.training.tensorboard_writer - cpu_memory_MB   |  2763.984  |       N/A\n",
            "2019-12-24 18:01:32,483 - INFO - allennlp.training.tensorboard_writer - accuracy        |     0.883  |     0.616\n",
            "2019-12-24 18:01:32,567 - INFO - allennlp.training.trainer - Epoch duration: 0:00:31.230192\n",
            "2019-12-24 18:01:32,568 - INFO - allennlp.training.trainer - Estimated training time remaining: 0:16:15\n",
            "2019-12-24 18:01:32,568 - INFO - allennlp.training.trainer - Epoch 20/49\n",
            "2019-12-24 18:01:32,569 - INFO - allennlp.training.trainer - Peak CPU memory usage MB: 2763.984\n",
            "2019-12-24 18:01:32,633 - INFO - allennlp.training.trainer - GPU 0 memory usage MB: 801\n",
            "2019-12-24 18:01:32,634 - INFO - allennlp.training.trainer - Training\n",
            "accuracy: 0.8909, loss: 0.0692 ||: 100%|##########| 1774/1774 [00:28<00:00, 69.96it/s]\n",
            "2019-12-24 18:02:00,908 - INFO - allennlp.training.trainer - Validating\n",
            "accuracy: 0.6115, loss: 0.3244 ||: 100%|##########| 450/450 [00:03<00:00, 141.24it/s]\n",
            "2019-12-24 18:02:04,095 - INFO - allennlp.training.tensorboard_writer -                     Training |  Validation\n",
            "2019-12-24 18:02:04,096 - INFO - allennlp.training.tensorboard_writer - loss            |     0.069  |     0.324\n",
            "2019-12-24 18:02:04,097 - INFO - allennlp.training.tensorboard_writer - gpu_0_memory_MB |   801.000  |       N/A\n",
            "2019-12-24 18:02:04,097 - INFO - allennlp.training.tensorboard_writer - cpu_memory_MB   |  2763.984  |       N/A\n",
            "2019-12-24 18:02:04,098 - INFO - allennlp.training.tensorboard_writer - accuracy        |     0.891  |     0.612\n",
            "2019-12-24 18:02:04,191 - INFO - allennlp.training.trainer - Epoch duration: 0:00:31.622585\n",
            "2019-12-24 18:02:04,191 - INFO - allennlp.training.trainer - Estimated training time remaining: 0:15:41\n",
            "2019-12-24 18:02:04,192 - INFO - allennlp.training.trainer - Epoch 21/49\n",
            "2019-12-24 18:02:04,192 - INFO - allennlp.training.trainer - Peak CPU memory usage MB: 2763.984\n",
            "2019-12-24 18:02:04,255 - INFO - allennlp.training.trainer - GPU 0 memory usage MB: 801\n",
            "2019-12-24 18:02:04,256 - INFO - allennlp.training.trainer - Training\n",
            "accuracy: 0.8962, loss: 0.0649 ||: 100%|##########| 1774/1774 [00:29<00:00, 60.17it/s]\n",
            "2019-12-24 18:02:33,741 - INFO - allennlp.training.trainer - Validating\n",
            "accuracy: 0.6195, loss: 0.3267 ||: 100%|##########| 450/450 [00:03<00:00, 138.10it/s]\n",
            "2019-12-24 18:02:37,001 - INFO - allennlp.training.tensorboard_writer -                     Training |  Validation\n",
            "2019-12-24 18:02:37,001 - INFO - allennlp.training.tensorboard_writer - loss            |     0.065  |     0.327\n",
            "2019-12-24 18:02:37,002 - INFO - allennlp.training.tensorboard_writer - gpu_0_memory_MB |   801.000  |       N/A\n",
            "2019-12-24 18:02:37,002 - INFO - allennlp.training.tensorboard_writer - cpu_memory_MB   |  2763.984  |       N/A\n",
            "2019-12-24 18:02:37,003 - INFO - allennlp.training.tensorboard_writer - accuracy        |     0.896  |     0.620\n",
            "2019-12-24 18:02:37,097 - INFO - allennlp.training.trainer - Epoch duration: 0:00:32.905660\n",
            "2019-12-24 18:02:37,098 - INFO - allennlp.training.trainer - Estimated training time remaining: 0:15:09\n",
            "2019-12-24 18:02:37,098 - INFO - allennlp.training.trainer - Epoch 22/49\n",
            "2019-12-24 18:02:37,098 - INFO - allennlp.training.trainer - Peak CPU memory usage MB: 2763.988\n",
            "2019-12-24 18:02:37,161 - INFO - allennlp.training.trainer - GPU 0 memory usage MB: 801\n",
            "2019-12-24 18:02:37,162 - INFO - allennlp.training.trainer - Training\n",
            "accuracy: 0.9022, loss: 0.0614 ||: 100%|##########| 1774/1774 [00:28<00:00, 60.15it/s]\n",
            "2019-12-24 18:03:05,902 - INFO - allennlp.training.trainer - Validating\n",
            "accuracy: 0.6207, loss: 0.3306 ||: 100%|##########| 450/450 [00:03<00:00, 139.53it/s]\n",
            "2019-12-24 18:03:09,129 - INFO - allennlp.training.tensorboard_writer -                     Training |  Validation\n",
            "2019-12-24 18:03:09,129 - INFO - allennlp.training.tensorboard_writer - loss            |     0.061  |     0.331\n",
            "2019-12-24 18:03:09,130 - INFO - allennlp.training.tensorboard_writer - gpu_0_memory_MB |   801.000  |       N/A\n",
            "2019-12-24 18:03:09,131 - INFO - allennlp.training.tensorboard_writer - cpu_memory_MB   |  2763.988  |       N/A\n",
            "2019-12-24 18:03:09,131 - INFO - allennlp.training.tensorboard_writer - accuracy        |     0.902  |     0.621\n",
            "2019-12-24 18:03:09,236 - INFO - allennlp.training.trainer - Epoch duration: 0:00:32.138444\n",
            "2019-12-24 18:03:09,237 - INFO - allennlp.training.trainer - Estimated training time remaining: 0:14:36\n",
            "2019-12-24 18:03:09,237 - INFO - allennlp.training.trainer - Epoch 23/49\n",
            "2019-12-24 18:03:09,237 - INFO - allennlp.training.trainer - Peak CPU memory usage MB: 2763.988\n",
            "2019-12-24 18:03:09,305 - INFO - allennlp.training.trainer - GPU 0 memory usage MB: 801\n",
            "2019-12-24 18:03:09,306 - INFO - allennlp.training.trainer - Training\n",
            "accuracy: 0.9086, loss: 0.0575 ||: 100%|##########| 1774/1774 [00:29<00:00, 69.71it/s]\n",
            "2019-12-24 18:03:38,869 - INFO - allennlp.training.trainer - Validating\n",
            "accuracy: 0.6196, loss: 0.3343 ||: 100%|##########| 450/450 [00:03<00:00, 139.07it/s]\n",
            "2019-12-24 18:03:42,106 - INFO - allennlp.training.tensorboard_writer -                     Training |  Validation\n",
            "2019-12-24 18:03:42,107 - INFO - allennlp.training.tensorboard_writer - loss            |     0.057  |     0.334\n",
            "2019-12-24 18:03:42,109 - INFO - allennlp.training.tensorboard_writer - gpu_0_memory_MB |   801.000  |       N/A\n",
            "2019-12-24 18:03:42,110 - INFO - allennlp.training.tensorboard_writer - cpu_memory_MB   |  2763.988  |       N/A\n",
            "2019-12-24 18:03:42,110 - INFO - allennlp.training.tensorboard_writer - accuracy        |     0.909  |     0.620\n",
            "2019-12-24 18:03:42,194 - INFO - allennlp.training.trainer - Epoch duration: 0:00:32.957027\n",
            "2019-12-24 18:03:42,194 - INFO - allennlp.training.trainer - Estimated training time remaining: 0:14:04\n",
            "2019-12-24 18:03:42,195 - INFO - allennlp.training.trainer - Epoch 24/49\n",
            "2019-12-24 18:03:42,195 - INFO - allennlp.training.trainer - Peak CPU memory usage MB: 2763.988\n",
            "2019-12-24 18:03:42,258 - INFO - allennlp.training.trainer - GPU 0 memory usage MB: 801\n",
            "2019-12-24 18:03:42,258 - INFO - allennlp.training.trainer - Training\n",
            "accuracy: 0.9141, loss: 0.0542 ||: 100%|##########| 1774/1774 [00:28<00:00, 62.10it/s]\n",
            "2019-12-24 18:04:10,828 - INFO - allennlp.training.trainer - Validating\n",
            "accuracy: 0.6129, loss: 0.3406 ||: 100%|##########| 450/450 [00:03<00:00, 141.46it/s]\n",
            "2019-12-24 18:04:14,010 - INFO - allennlp.training.tensorboard_writer -                     Training |  Validation\n",
            "2019-12-24 18:04:14,011 - INFO - allennlp.training.tensorboard_writer - loss            |     0.054  |     0.341\n",
            "2019-12-24 18:04:14,011 - INFO - allennlp.training.tensorboard_writer - gpu_0_memory_MB |   801.000  |       N/A\n",
            "2019-12-24 18:04:14,012 - INFO - allennlp.training.tensorboard_writer - cpu_memory_MB   |  2763.988  |       N/A\n",
            "2019-12-24 18:04:14,012 - INFO - allennlp.training.tensorboard_writer - accuracy        |     0.914  |     0.613\n",
            "2019-12-24 18:04:14,114 - INFO - allennlp.training.trainer - Epoch duration: 0:00:31.918781\n",
            "2019-12-24 18:04:14,114 - INFO - allennlp.training.trainer - Estimated training time remaining: 0:13:31\n",
            "2019-12-24 18:04:14,114 - INFO - allennlp.training.trainer - Epoch 25/49\n",
            "2019-12-24 18:04:14,114 - INFO - allennlp.training.trainer - Peak CPU memory usage MB: 2763.988\n",
            "2019-12-24 18:04:14,178 - INFO - allennlp.training.trainer - GPU 0 memory usage MB: 801\n",
            "2019-12-24 18:04:14,178 - INFO - allennlp.training.trainer - Training\n",
            "accuracy: 0.9194, loss: 0.0516 ||: 100%|##########| 1774/1774 [00:27<00:00, 63.62it/s]\n",
            "2019-12-24 18:04:42,064 - INFO - allennlp.training.trainer - Validating\n",
            "accuracy: 0.6109, loss: 0.3477 ||: 100%|##########| 450/450 [00:04<00:00, 100.85it/s]\n",
            "2019-12-24 18:04:46,527 - INFO - allennlp.training.tensorboard_writer -                     Training |  Validation\n",
            "2019-12-24 18:04:46,527 - INFO - allennlp.training.tensorboard_writer - loss            |     0.052  |     0.348\n",
            "2019-12-24 18:04:46,528 - INFO - allennlp.training.tensorboard_writer - gpu_0_memory_MB |   801.000  |       N/A\n",
            "2019-12-24 18:04:46,529 - INFO - allennlp.training.tensorboard_writer - cpu_memory_MB   |  2763.988  |       N/A\n",
            "2019-12-24 18:04:46,529 - INFO - allennlp.training.tensorboard_writer - accuracy        |     0.919  |     0.611\n",
            "2019-12-24 18:04:46,612 - INFO - allennlp.training.trainer - Epoch duration: 0:00:32.498350\n",
            "2019-12-24 18:04:46,613 - INFO - allennlp.training.trainer - Estimated training time remaining: 0:12:59\n",
            "2019-12-24 18:04:46,613 - INFO - allennlp.training.trainer - Epoch 26/49\n",
            "2019-12-24 18:04:46,613 - INFO - allennlp.training.trainer - Peak CPU memory usage MB: 2763.988\n",
            "2019-12-24 18:04:46,679 - INFO - allennlp.training.trainer - GPU 0 memory usage MB: 801\n",
            "2019-12-24 18:04:46,680 - INFO - allennlp.training.trainer - Training\n",
            "accuracy: 0.9244, loss: 0.0487 ||: 100%|##########| 1774/1774 [00:28<00:00, 61.58it/s]\n",
            "2019-12-24 18:05:15,487 - INFO - allennlp.training.trainer - Validating\n",
            "accuracy: 0.6111, loss: 0.3456 ||: 100%|##########| 450/450 [00:03<00:00, 130.60it/s]\n",
            "2019-12-24 18:05:18,620 - INFO - allennlp.training.tensorboard_writer -                     Training |  Validation\n",
            "2019-12-24 18:05:18,621 - INFO - allennlp.training.tensorboard_writer - loss            |     0.049  |     0.346\n",
            "2019-12-24 18:05:18,622 - INFO - allennlp.training.tensorboard_writer - gpu_0_memory_MB |   801.000  |       N/A\n",
            "2019-12-24 18:05:18,622 - INFO - allennlp.training.tensorboard_writer - cpu_memory_MB   |  2763.988  |       N/A\n",
            "2019-12-24 18:05:18,623 - INFO - allennlp.training.tensorboard_writer - accuracy        |     0.924  |     0.611\n",
            "2019-12-24 18:05:18,711 - INFO - allennlp.training.trainer - Epoch duration: 0:00:32.098318\n",
            "2019-12-24 18:05:18,712 - INFO - allennlp.training.trainer - Estimated training time remaining: 0:12:26\n",
            "2019-12-24 18:05:18,712 - INFO - allennlp.training.trainer - Epoch 27/49\n",
            "2019-12-24 18:05:18,712 - INFO - allennlp.training.trainer - Peak CPU memory usage MB: 2763.988\n",
            "2019-12-24 18:05:18,775 - INFO - allennlp.training.trainer - GPU 0 memory usage MB: 801\n",
            "2019-12-24 18:05:18,776 - INFO - allennlp.training.trainer - Training\n",
            "accuracy: 0.9277, loss: 0.0465 ||: 100%|##########| 1774/1774 [00:28<00:00, 63.18it/s]\n",
            "2019-12-24 18:05:46,858 - INFO - allennlp.training.trainer - Validating\n",
            "accuracy: 0.6169, loss: 0.3484 ||: 100%|##########| 450/450 [00:04<00:00, 102.44it/s]\n",
            "2019-12-24 18:05:51,252 - INFO - allennlp.training.tensorboard_writer -                     Training |  Validation\n",
            "2019-12-24 18:05:51,253 - INFO - allennlp.training.tensorboard_writer - loss            |     0.047  |     0.348\n",
            "2019-12-24 18:05:51,253 - INFO - allennlp.training.tensorboard_writer - gpu_0_memory_MB |   801.000  |       N/A\n",
            "2019-12-24 18:05:51,254 - INFO - allennlp.training.tensorboard_writer - cpu_memory_MB   |  2763.988  |       N/A\n",
            "2019-12-24 18:05:51,254 - INFO - allennlp.training.tensorboard_writer - accuracy        |     0.928  |     0.617\n",
            "2019-12-24 18:05:51,374 - INFO - allennlp.training.trainer - Epoch duration: 0:00:32.661773\n",
            "2019-12-24 18:05:51,374 - INFO - allennlp.training.trainer - Estimated training time remaining: 0:11:54\n",
            "2019-12-24 18:05:51,375 - INFO - allennlp.training.trainer - Epoch 28/49\n",
            "2019-12-24 18:05:51,375 - INFO - allennlp.training.trainer - Peak CPU memory usage MB: 2763.988\n",
            "2019-12-24 18:05:51,438 - INFO - allennlp.training.trainer - GPU 0 memory usage MB: 801\n",
            "2019-12-24 18:05:51,440 - INFO - allennlp.training.trainer - Training\n",
            "accuracy: 0.9294, loss: 0.0455 ||: 100%|##########| 1774/1774 [00:28<00:00, 63.15it/s]\n",
            "2019-12-24 18:06:19,533 - INFO - allennlp.training.trainer - Validating\n",
            "accuracy: 0.6137, loss: 0.3507 ||: 100%|##########| 450/450 [00:03<00:00, 144.84it/s]\n",
            "2019-12-24 18:06:22,642 - INFO - allennlp.training.tensorboard_writer -                     Training |  Validation\n",
            "2019-12-24 18:06:22,642 - INFO - allennlp.training.tensorboard_writer - loss            |     0.045  |     0.351\n",
            "2019-12-24 18:06:22,643 - INFO - allennlp.training.tensorboard_writer - gpu_0_memory_MB |   801.000  |       N/A\n",
            "2019-12-24 18:06:22,643 - INFO - allennlp.training.tensorboard_writer - cpu_memory_MB   |  2763.988  |       N/A\n",
            "2019-12-24 18:06:22,644 - INFO - allennlp.training.tensorboard_writer - accuracy        |     0.929  |     0.614\n",
            "2019-12-24 18:06:22,741 - INFO - allennlp.training.trainer - Epoch duration: 0:00:31.365844\n",
            "2019-12-24 18:06:22,741 - INFO - allennlp.training.trainer - Estimated training time remaining: 0:11:20\n",
            "2019-12-24 18:06:22,741 - INFO - allennlp.training.trainer - Epoch 29/49\n",
            "2019-12-24 18:06:22,742 - INFO - allennlp.training.trainer - Peak CPU memory usage MB: 2763.988\n",
            "2019-12-24 18:06:22,806 - INFO - allennlp.training.trainer - GPU 0 memory usage MB: 801\n",
            "2019-12-24 18:06:22,807 - INFO - allennlp.training.trainer - Training\n",
            "accuracy: 0.9327, loss: 0.0437 ||: 100%|##########| 1774/1774 [00:27<00:00, 63.97it/s]\n",
            "2019-12-24 18:06:50,538 - INFO - allennlp.training.trainer - Validating\n",
            "accuracy: 0.6119, loss: 0.3536 ||: 100%|##########| 450/450 [00:03<00:00, 147.47it/s]\n",
            "2019-12-24 18:06:53,590 - INFO - allennlp.training.tensorboard_writer -                     Training |  Validation\n",
            "2019-12-24 18:06:53,591 - INFO - allennlp.training.tensorboard_writer - loss            |     0.044  |     0.354\n",
            "2019-12-24 18:06:53,592 - INFO - allennlp.training.tensorboard_writer - gpu_0_memory_MB |   801.000  |       N/A\n",
            "2019-12-24 18:06:53,592 - INFO - allennlp.training.tensorboard_writer - cpu_memory_MB   |  2763.988  |       N/A\n",
            "2019-12-24 18:06:53,593 - INFO - allennlp.training.tensorboard_writer - accuracy        |     0.933  |     0.612\n",
            "2019-12-24 18:06:53,686 - INFO - allennlp.training.trainer - Epoch duration: 0:00:30.944347\n",
            "2019-12-24 18:06:53,686 - INFO - allennlp.training.trainer - Estimated training time remaining: 0:10:47\n",
            "2019-12-24 18:06:53,686 - INFO - allennlp.training.trainer - Epoch 30/49\n",
            "2019-12-24 18:06:53,686 - INFO - allennlp.training.trainer - Peak CPU memory usage MB: 2763.988\n",
            "2019-12-24 18:06:53,760 - INFO - allennlp.training.trainer - GPU 0 memory usage MB: 801\n",
            "2019-12-24 18:06:53,760 - INFO - allennlp.training.trainer - Training\n",
            "accuracy: 0.9350, loss: 0.0427 ||: 100%|##########| 1774/1774 [00:29<00:00, 60.96it/s]\n",
            "2019-12-24 18:07:22,864 - INFO - allennlp.training.trainer - Validating\n",
            "accuracy: 0.6155, loss: 0.3542 ||: 100%|##########| 450/450 [00:03<00:00, 129.73it/s]\n",
            "2019-12-24 18:07:25,966 - INFO - allennlp.training.tensorboard_writer -                     Training |  Validation\n",
            "2019-12-24 18:07:25,967 - INFO - allennlp.training.tensorboard_writer - loss            |     0.043  |     0.354\n",
            "2019-12-24 18:07:25,968 - INFO - allennlp.training.tensorboard_writer - gpu_0_memory_MB |   801.000  |       N/A\n",
            "2019-12-24 18:07:25,968 - INFO - allennlp.training.tensorboard_writer - cpu_memory_MB   |  2763.988  |       N/A\n",
            "2019-12-24 18:07:25,969 - INFO - allennlp.training.tensorboard_writer - accuracy        |     0.935  |     0.616\n",
            "2019-12-24 18:07:26,053 - INFO - allennlp.training.trainer - Epoch duration: 0:00:32.366481\n",
            "2019-12-24 18:07:26,053 - INFO - allennlp.training.trainer - Estimated training time remaining: 0:10:15\n",
            "2019-12-24 18:07:26,053 - INFO - allennlp.training.trainer - Epoch 31/49\n",
            "2019-12-24 18:07:26,053 - INFO - allennlp.training.trainer - Peak CPU memory usage MB: 2763.988\n",
            "2019-12-24 18:07:26,115 - INFO - allennlp.training.trainer - GPU 0 memory usage MB: 801\n",
            "2019-12-24 18:07:26,115 - INFO - allennlp.training.trainer - Training\n",
            "accuracy: 0.9371, loss: 0.0414 ||: 100%|##########| 1774/1774 [00:26<00:00, 65.81it/s]\n",
            "2019-12-24 18:07:53,075 - INFO - allennlp.training.trainer - Validating\n",
            "accuracy: 0.6163, loss: 0.3552 ||: 100%|##########| 450/450 [00:03<00:00, 129.46it/s]\n",
            "2019-12-24 18:07:56,288 - INFO - allennlp.training.tensorboard_writer -                     Training |  Validation\n",
            "2019-12-24 18:07:56,288 - INFO - allennlp.training.tensorboard_writer - loss            |     0.041  |     0.355\n",
            "2019-12-24 18:07:56,289 - INFO - allennlp.training.tensorboard_writer - gpu_0_memory_MB |   801.000  |       N/A\n",
            "2019-12-24 18:07:56,290 - INFO - allennlp.training.tensorboard_writer - cpu_memory_MB   |  2763.988  |       N/A\n",
            "2019-12-24 18:07:56,290 - INFO - allennlp.training.tensorboard_writer - accuracy        |     0.937  |     0.616\n",
            "2019-12-24 18:07:56,377 - INFO - allennlp.training.trainer - Epoch duration: 0:00:30.323720\n",
            "2019-12-24 18:07:56,377 - INFO - allennlp.training.trainer - Estimated training time remaining: 0:09:41\n",
            "2019-12-24 18:07:56,378 - INFO - allennlp.training.trainer - Epoch 32/49\n",
            "2019-12-24 18:07:56,378 - INFO - allennlp.training.trainer - Peak CPU memory usage MB: 2763.988\n",
            "2019-12-24 18:07:56,440 - INFO - allennlp.training.trainer - GPU 0 memory usage MB: 801\n",
            "2019-12-24 18:07:56,441 - INFO - allennlp.training.trainer - Training\n",
            "accuracy: 0.9384, loss: 0.0408 ||: 100%|##########| 1774/1774 [00:29<00:00, 63.95it/s]\n",
            "2019-12-24 18:08:25,524 - INFO - allennlp.training.trainer - Validating\n",
            "accuracy: 0.6172, loss: 0.3549 ||: 100%|##########| 450/450 [00:03<00:00, 147.31it/s]\n",
            "2019-12-24 18:08:28,580 - INFO - allennlp.training.tensorboard_writer -                     Training |  Validation\n",
            "2019-12-24 18:08:28,580 - INFO - allennlp.training.tensorboard_writer - loss            |     0.041  |     0.355\n",
            "2019-12-24 18:08:28,581 - INFO - allennlp.training.tensorboard_writer - gpu_0_memory_MB |   801.000  |       N/A\n",
            "2019-12-24 18:08:28,582 - INFO - allennlp.training.tensorboard_writer - cpu_memory_MB   |  2763.988  |       N/A\n",
            "2019-12-24 18:08:28,582 - INFO - allennlp.training.tensorboard_writer - accuracy        |     0.938  |     0.617\n",
            "2019-12-24 18:08:28,679 - INFO - allennlp.training.trainer - Epoch duration: 0:00:32.301453\n",
            "2019-12-24 18:08:28,679 - INFO - allennlp.training.trainer - Estimated training time remaining: 0:09:09\n",
            "2019-12-24 18:08:28,680 - INFO - allennlp.training.trainer - Epoch 33/49\n",
            "2019-12-24 18:08:28,680 - INFO - allennlp.training.trainer - Peak CPU memory usage MB: 2763.988\n",
            "2019-12-24 18:08:28,747 - INFO - allennlp.training.trainer - GPU 0 memory usage MB: 801\n",
            "2019-12-24 18:08:28,748 - INFO - allennlp.training.trainer - Training\n",
            "accuracy: 0.9405, loss: 0.0397 ||: 100%|##########| 1774/1774 [00:28<00:00, 61.91it/s]\n",
            "2019-12-24 18:08:57,404 - INFO - allennlp.training.trainer - Validating\n",
            "accuracy: 0.6190, loss: 0.3560 ||: 100%|##########| 450/450 [00:03<00:00, 135.74it/s]\n",
            "2019-12-24 18:09:00,729 - INFO - allennlp.training.tensorboard_writer -                     Training |  Validation\n",
            "2019-12-24 18:09:00,730 - INFO - allennlp.training.tensorboard_writer - loss            |     0.040  |     0.356\n",
            "2019-12-24 18:09:00,731 - INFO - allennlp.training.tensorboard_writer - gpu_0_memory_MB |   801.000  |       N/A\n",
            "2019-12-24 18:09:00,732 - INFO - allennlp.training.tensorboard_writer - cpu_memory_MB   |  2763.988  |       N/A\n",
            "2019-12-24 18:09:00,732 - INFO - allennlp.training.tensorboard_writer - accuracy        |     0.940  |     0.619\n",
            "2019-12-24 18:09:00,836 - INFO - allennlp.training.trainer - Epoch duration: 0:00:32.156345\n",
            "2019-12-24 18:09:00,836 - INFO - allennlp.training.trainer - Estimated training time remaining: 0:08:36\n",
            "2019-12-24 18:09:00,836 - INFO - allennlp.training.trainer - Epoch 34/49\n",
            "2019-12-24 18:09:00,837 - INFO - allennlp.training.trainer - Peak CPU memory usage MB: 2763.988\n",
            "2019-12-24 18:09:00,905 - INFO - allennlp.training.trainer - GPU 0 memory usage MB: 801\n",
            "2019-12-24 18:09:00,906 - INFO - allennlp.training.trainer - Training\n",
            "accuracy: 0.9414, loss: 0.0392 ||: 100%|##########| 1774/1774 [00:28<00:00, 61.63it/s]\n",
            "2019-12-24 18:09:29,691 - INFO - allennlp.training.trainer - Validating\n",
            "accuracy: 0.6147, loss: 0.3595 ||: 100%|##########| 450/450 [00:04<00:00, 101.62it/s]\n",
            "2019-12-24 18:09:34,121 - INFO - allennlp.training.tensorboard_writer -                     Training |  Validation\n",
            "2019-12-24 18:09:34,121 - INFO - allennlp.training.tensorboard_writer - loss            |     0.039  |     0.359\n",
            "2019-12-24 18:09:34,122 - INFO - allennlp.training.tensorboard_writer - gpu_0_memory_MB |   801.000  |       N/A\n",
            "2019-12-24 18:09:34,123 - INFO - allennlp.training.tensorboard_writer - cpu_memory_MB   |  2763.988  |       N/A\n",
            "2019-12-24 18:09:34,123 - INFO - allennlp.training.tensorboard_writer - accuracy        |     0.941  |     0.615\n",
            "2019-12-24 18:09:34,221 - INFO - allennlp.training.trainer - Epoch duration: 0:00:33.384042\n",
            "2019-12-24 18:09:34,221 - INFO - allennlp.training.trainer - Estimated training time remaining: 0:08:05\n",
            "2019-12-24 18:09:34,221 - INFO - allennlp.training.trainer - Epoch 35/49\n",
            "2019-12-24 18:09:34,221 - INFO - allennlp.training.trainer - Peak CPU memory usage MB: 2763.988\n",
            "2019-12-24 18:09:34,288 - INFO - allennlp.training.trainer - GPU 0 memory usage MB: 801\n",
            "2019-12-24 18:09:34,289 - INFO - allennlp.training.trainer - Training\n",
            "accuracy: 0.9427, loss: 0.0387 ||: 100%|##########| 1774/1774 [00:27<00:00, 63.74it/s]\n",
            "2019-12-24 18:10:02,122 - INFO - allennlp.training.trainer - Validating\n",
            "accuracy: 0.6095, loss: 0.3633 ||: 100%|##########| 450/450 [00:03<00:00, 140.85it/s]\n",
            "2019-12-24 18:10:05,318 - INFO - allennlp.training.tensorboard_writer -                     Training |  Validation\n",
            "2019-12-24 18:10:05,318 - INFO - allennlp.training.tensorboard_writer - loss            |     0.039  |     0.363\n",
            "2019-12-24 18:10:05,319 - INFO - allennlp.training.tensorboard_writer - gpu_0_memory_MB |   801.000  |       N/A\n",
            "2019-12-24 18:10:05,320 - INFO - allennlp.training.tensorboard_writer - cpu_memory_MB   |  2763.988  |       N/A\n",
            "2019-12-24 18:10:05,320 - INFO - allennlp.training.tensorboard_writer - accuracy        |     0.943  |     0.610\n",
            "2019-12-24 18:10:05,423 - INFO - allennlp.training.trainer - Epoch duration: 0:00:31.202098\n",
            "2019-12-24 18:10:05,424 - INFO - allennlp.training.trainer - Estimated training time remaining: 0:07:32\n",
            "2019-12-24 18:10:05,424 - INFO - allennlp.training.trainer - Epoch 36/49\n",
            "2019-12-24 18:10:05,424 - INFO - allennlp.training.trainer - Peak CPU memory usage MB: 2763.988\n",
            "2019-12-24 18:10:05,490 - INFO - allennlp.training.trainer - GPU 0 memory usage MB: 801\n",
            "2019-12-24 18:10:05,491 - INFO - allennlp.training.trainer - Training\n",
            "accuracy: 0.9429, loss: 0.0386 ||: 100%|##########| 1774/1774 [00:28<00:00, 62.38it/s]\n",
            "2019-12-24 18:10:33,931 - INFO - allennlp.training.trainer - Validating\n",
            "accuracy: 0.6163, loss: 0.3592 ||: 100%|##########| 450/450 [00:04<00:00, 103.26it/s]\n",
            "2019-12-24 18:10:38,290 - INFO - allennlp.training.tensorboard_writer -                     Training |  Validation\n",
            "2019-12-24 18:10:38,291 - INFO - allennlp.training.tensorboard_writer - loss            |     0.039  |     0.359\n",
            "2019-12-24 18:10:38,291 - INFO - allennlp.training.tensorboard_writer - gpu_0_memory_MB |   801.000  |       N/A\n",
            "2019-12-24 18:10:38,292 - INFO - allennlp.training.tensorboard_writer - cpu_memory_MB   |  2763.988  |       N/A\n",
            "2019-12-24 18:10:38,292 - INFO - allennlp.training.tensorboard_writer - accuracy        |     0.943  |     0.616\n",
            "2019-12-24 18:10:38,396 - INFO - allennlp.training.trainer - Epoch duration: 0:00:32.972526\n",
            "2019-12-24 18:10:38,397 - INFO - allennlp.training.trainer - Estimated training time remaining: 0:07:00\n",
            "2019-12-24 18:10:38,397 - INFO - allennlp.training.trainer - Epoch 37/49\n",
            "2019-12-24 18:10:38,397 - INFO - allennlp.training.trainer - Peak CPU memory usage MB: 2763.988\n",
            "2019-12-24 18:10:38,458 - INFO - allennlp.training.trainer - GPU 0 memory usage MB: 801\n",
            "2019-12-24 18:10:38,459 - INFO - allennlp.training.trainer - Training\n",
            "accuracy: 0.9434, loss: 0.0383 ||: 100%|##########| 1774/1774 [00:27<00:00, 64.60it/s]\n",
            "2019-12-24 18:11:05,921 - INFO - allennlp.training.trainer - Validating\n",
            "accuracy: 0.6138, loss: 0.3616 ||: 100%|##########| 450/450 [00:03<00:00, 145.35it/s]\n",
            "2019-12-24 18:11:09,018 - INFO - allennlp.training.tensorboard_writer -                     Training |  Validation\n",
            "2019-12-24 18:11:09,018 - INFO - allennlp.training.tensorboard_writer - loss            |     0.038  |     0.362\n",
            "2019-12-24 18:11:09,019 - INFO - allennlp.training.tensorboard_writer - gpu_0_memory_MB |   801.000  |       N/A\n",
            "2019-12-24 18:11:09,020 - INFO - allennlp.training.tensorboard_writer - cpu_memory_MB   |  2763.988  |       N/A\n",
            "2019-12-24 18:11:09,020 - INFO - allennlp.training.tensorboard_writer - accuracy        |     0.943  |     0.614\n",
            "2019-12-24 18:11:09,116 - INFO - allennlp.training.trainer - Epoch duration: 0:00:30.718519\n",
            "2019-12-24 18:11:09,116 - INFO - allennlp.training.trainer - Estimated training time remaining: 0:06:27\n",
            "2019-12-24 18:11:09,116 - INFO - allennlp.training.trainer - Epoch 38/49\n",
            "2019-12-24 18:11:09,116 - INFO - allennlp.training.trainer - Peak CPU memory usage MB: 2763.988\n",
            "2019-12-24 18:11:09,182 - INFO - allennlp.training.trainer - GPU 0 memory usage MB: 801\n",
            "2019-12-24 18:11:09,183 - INFO - allennlp.training.trainer - Training\n",
            "accuracy: 0.9441, loss: 0.0380 ||: 100%|##########| 1774/1774 [00:27<00:00, 64.31it/s]\n",
            "2019-12-24 18:11:36,769 - INFO - allennlp.training.trainer - Validating\n",
            "accuracy: 0.6165, loss: 0.3596 ||: 100%|##########| 450/450 [00:03<00:00, 145.84it/s]\n",
            "2019-12-24 18:11:39,856 - INFO - allennlp.training.tensorboard_writer -                     Training |  Validation\n",
            "2019-12-24 18:11:39,857 - INFO - allennlp.training.tensorboard_writer - loss            |     0.038  |     0.360\n",
            "2019-12-24 18:11:39,857 - INFO - allennlp.training.tensorboard_writer - gpu_0_memory_MB |   801.000  |       N/A\n",
            "2019-12-24 18:11:39,858 - INFO - allennlp.training.tensorboard_writer - cpu_memory_MB   |  2763.988  |       N/A\n",
            "2019-12-24 18:11:39,858 - INFO - allennlp.training.tensorboard_writer - accuracy        |     0.944  |     0.616\n",
            "2019-12-24 18:11:39,944 - INFO - allennlp.training.trainer - Epoch duration: 0:00:30.828172\n",
            "2019-12-24 18:11:39,945 - INFO - allennlp.training.trainer - Estimated training time remaining: 0:05:54\n",
            "2019-12-24 18:11:39,945 - INFO - allennlp.training.trainer - Epoch 39/49\n",
            "2019-12-24 18:11:39,945 - INFO - allennlp.training.trainer - Peak CPU memory usage MB: 2763.988\n",
            "2019-12-24 18:11:40,007 - INFO - allennlp.training.trainer - GPU 0 memory usage MB: 801\n",
            "2019-12-24 18:11:40,008 - INFO - allennlp.training.trainer - Training\n",
            "accuracy: 0.9447, loss: 0.0377 ||: 100%|##########| 1774/1774 [00:28<00:00, 61.73it/s]\n",
            "2019-12-24 18:12:08,748 - INFO - allennlp.training.trainer - Validating\n",
            "accuracy: 0.6150, loss: 0.3616 ||: 100%|##########| 450/450 [00:03<00:00, 147.77it/s]\n",
            "2019-12-24 18:12:11,794 - INFO - allennlp.training.tensorboard_writer -                     Training |  Validation\n",
            "2019-12-24 18:12:11,795 - INFO - allennlp.training.tensorboard_writer - loss            |     0.038  |     0.362\n",
            "2019-12-24 18:12:11,796 - INFO - allennlp.training.tensorboard_writer - gpu_0_memory_MB |   801.000  |       N/A\n",
            "2019-12-24 18:12:11,796 - INFO - allennlp.training.tensorboard_writer - cpu_memory_MB   |  2763.988  |       N/A\n",
            "2019-12-24 18:12:11,797 - INFO - allennlp.training.tensorboard_writer - accuracy        |     0.945  |     0.615\n",
            "2019-12-24 18:12:11,890 - INFO - allennlp.training.trainer - Epoch duration: 0:00:31.944746\n",
            "2019-12-24 18:12:11,890 - INFO - allennlp.training.trainer - Estimated training time remaining: 0:05:22\n",
            "2019-12-24 18:12:11,891 - INFO - allennlp.training.trainer - Epoch 40/49\n",
            "2019-12-24 18:12:11,891 - INFO - allennlp.training.trainer - Peak CPU memory usage MB: 2763.988\n",
            "2019-12-24 18:12:11,955 - INFO - allennlp.training.trainer - GPU 0 memory usage MB: 801\n",
            "2019-12-24 18:12:11,956 - INFO - allennlp.training.trainer - Training\n",
            "accuracy: 0.9450, loss: 0.0376 ||: 100%|##########| 1774/1774 [00:26<00:00, 66.16it/s]\n",
            "2019-12-24 18:12:38,772 - INFO - allennlp.training.trainer - Validating\n",
            "accuracy: 0.6151, loss: 0.3623 ||: 100%|##########| 450/450 [00:03<00:00, 147.39it/s]\n",
            "2019-12-24 18:12:41,826 - INFO - allennlp.training.tensorboard_writer -                     Training |  Validation\n",
            "2019-12-24 18:12:41,827 - INFO - allennlp.training.tensorboard_writer - loss            |     0.038  |     0.362\n",
            "2019-12-24 18:12:41,828 - INFO - allennlp.training.tensorboard_writer - gpu_0_memory_MB |   801.000  |       N/A\n",
            "2019-12-24 18:12:41,828 - INFO - allennlp.training.tensorboard_writer - cpu_memory_MB   |  2763.988  |       N/A\n",
            "2019-12-24 18:12:41,829 - INFO - allennlp.training.tensorboard_writer - accuracy        |     0.945  |     0.615\n",
            "2019-12-24 18:12:41,933 - INFO - allennlp.training.trainer - Epoch duration: 0:00:30.042687\n",
            "2019-12-24 18:12:41,934 - INFO - allennlp.training.trainer - Estimated training time remaining: 0:04:49\n",
            "2019-12-24 18:12:41,934 - INFO - allennlp.training.trainer - Epoch 41/49\n",
            "2019-12-24 18:12:41,934 - INFO - allennlp.training.trainer - Peak CPU memory usage MB: 2763.988\n",
            "2019-12-24 18:12:41,997 - INFO - allennlp.training.trainer - GPU 0 memory usage MB: 801\n",
            "2019-12-24 18:12:41,997 - INFO - allennlp.training.trainer - Training\n",
            "accuracy: 0.9455, loss: 0.0374 ||: 100%|##########| 1774/1774 [00:27<00:00, 65.55it/s]\n",
            "2019-12-24 18:13:09,062 - INFO - allennlp.training.trainer - Validating\n",
            "accuracy: 0.6170, loss: 0.3614 ||: 100%|##########| 450/450 [00:04<00:00, 127.62it/s]\n",
            "2019-12-24 18:13:13,441 - INFO - allennlp.training.tensorboard_writer -                     Training |  Validation\n",
            "2019-12-24 18:13:13,442 - INFO - allennlp.training.tensorboard_writer - loss            |     0.037  |     0.361\n",
            "2019-12-24 18:13:13,442 - INFO - allennlp.training.tensorboard_writer - gpu_0_memory_MB |   801.000  |       N/A\n",
            "2019-12-24 18:13:13,443 - INFO - allennlp.training.tensorboard_writer - cpu_memory_MB   |  2763.988  |       N/A\n",
            "2019-12-24 18:13:13,443 - INFO - allennlp.training.tensorboard_writer - accuracy        |     0.945  |     0.617\n",
            "2019-12-24 18:13:13,537 - INFO - allennlp.training.trainer - Epoch duration: 0:00:31.602881\n",
            "2019-12-24 18:13:13,537 - INFO - allennlp.training.trainer - Estimated training time remaining: 0:04:17\n",
            "2019-12-24 18:13:13,538 - INFO - allennlp.training.trainer - Epoch 42/49\n",
            "2019-12-24 18:13:13,538 - INFO - allennlp.training.trainer - Peak CPU memory usage MB: 2763.988\n",
            "2019-12-24 18:13:13,600 - INFO - allennlp.training.trainer - GPU 0 memory usage MB: 801\n",
            "2019-12-24 18:13:13,602 - INFO - allennlp.training.trainer - Training\n",
            "accuracy: 0.9459, loss: 0.0371 ||: 100%|##########| 1774/1774 [00:27<00:00, 64.64it/s]\n",
            "2019-12-24 18:13:41,045 - INFO - allennlp.training.trainer - Validating\n",
            "accuracy: 0.6134, loss: 0.3646 ||: 100%|##########| 450/450 [00:03<00:00, 142.08it/s]\n",
            "2019-12-24 18:13:44,214 - INFO - allennlp.training.tensorboard_writer -                     Training |  Validation\n",
            "2019-12-24 18:13:44,214 - INFO - allennlp.training.tensorboard_writer - loss            |     0.037  |     0.365\n",
            "2019-12-24 18:13:44,215 - INFO - allennlp.training.tensorboard_writer - gpu_0_memory_MB |   801.000  |       N/A\n",
            "2019-12-24 18:13:44,216 - INFO - allennlp.training.tensorboard_writer - cpu_memory_MB   |  2763.988  |       N/A\n",
            "2019-12-24 18:13:44,217 - INFO - allennlp.training.tensorboard_writer - accuracy        |     0.946  |     0.613\n",
            "2019-12-24 18:13:44,314 - INFO - allennlp.training.trainer - Epoch duration: 0:00:30.776009\n",
            "2019-12-24 18:13:44,314 - INFO - allennlp.training.trainer - Estimated training time remaining: 0:03:44\n",
            "2019-12-24 18:13:44,314 - INFO - allennlp.training.trainer - Epoch 43/49\n",
            "2019-12-24 18:13:44,314 - INFO - allennlp.training.trainer - Peak CPU memory usage MB: 2763.988\n",
            "2019-12-24 18:13:44,378 - INFO - allennlp.training.trainer - GPU 0 memory usage MB: 801\n",
            "2019-12-24 18:13:44,378 - INFO - allennlp.training.trainer - Training\n",
            "accuracy: 0.9460, loss: 0.0371 ||: 100%|##########| 1774/1774 [00:28<00:00, 61.22it/s]\n",
            "2019-12-24 18:14:13,359 - INFO - allennlp.training.trainer - Validating\n",
            "accuracy: 0.6126, loss: 0.3639 ||: 100%|##########| 450/450 [00:03<00:00, 146.12it/s]\n",
            "2019-12-24 18:14:16,440 - INFO - allennlp.training.tensorboard_writer -                     Training |  Validation\n",
            "2019-12-24 18:14:16,440 - INFO - allennlp.training.tensorboard_writer - loss            |     0.037  |     0.364\n",
            "2019-12-24 18:14:16,441 - INFO - allennlp.training.tensorboard_writer - gpu_0_memory_MB |   801.000  |       N/A\n",
            "2019-12-24 18:14:16,441 - INFO - allennlp.training.tensorboard_writer - cpu_memory_MB   |  2763.988  |       N/A\n",
            "2019-12-24 18:14:16,442 - INFO - allennlp.training.tensorboard_writer - accuracy        |     0.946  |     0.613\n",
            "2019-12-24 18:14:16,539 - INFO - allennlp.training.trainer - Epoch duration: 0:00:32.224913\n",
            "2019-12-24 18:14:16,539 - INFO - allennlp.training.trainer - Estimated training time remaining: 0:03:12\n",
            "2019-12-24 18:14:16,540 - INFO - allennlp.training.trainer - Epoch 44/49\n",
            "2019-12-24 18:14:16,540 - INFO - allennlp.training.trainer - Peak CPU memory usage MB: 2763.988\n",
            "2019-12-24 18:14:16,603 - INFO - allennlp.training.trainer - GPU 0 memory usage MB: 801\n",
            "2019-12-24 18:14:16,604 - INFO - allennlp.training.trainer - Training\n",
            "accuracy: 0.9464, loss: 0.0370 ||: 100%|##########| 1774/1774 [00:28<00:00, 61.44it/s]\n",
            "2019-12-24 18:14:45,478 - INFO - allennlp.training.trainer - Validating\n",
            "accuracy: 0.6142, loss: 0.3630 ||: 100%|##########| 450/450 [00:03<00:00, 143.47it/s]\n",
            "2019-12-24 18:14:48,616 - INFO - allennlp.training.tensorboard_writer -                     Training |  Validation\n",
            "2019-12-24 18:14:48,617 - INFO - allennlp.training.tensorboard_writer - loss            |     0.037  |     0.363\n",
            "2019-12-24 18:14:48,618 - INFO - allennlp.training.tensorboard_writer - gpu_0_memory_MB |   801.000  |       N/A\n",
            "2019-12-24 18:14:48,618 - INFO - allennlp.training.tensorboard_writer - cpu_memory_MB   |  2763.988  |       N/A\n",
            "2019-12-24 18:14:48,619 - INFO - allennlp.training.tensorboard_writer - accuracy        |     0.946  |     0.614\n",
            "2019-12-24 18:14:48,727 - INFO - allennlp.training.trainer - Epoch duration: 0:00:32.187254\n",
            "2019-12-24 18:14:48,727 - INFO - allennlp.training.trainer - Estimated training time remaining: 0:02:40\n",
            "2019-12-24 18:14:48,727 - INFO - allennlp.training.trainer - Epoch 45/49\n",
            "2019-12-24 18:14:48,727 - INFO - allennlp.training.trainer - Peak CPU memory usage MB: 2763.988\n",
            "2019-12-24 18:14:48,790 - INFO - allennlp.training.trainer - GPU 0 memory usage MB: 801\n",
            "2019-12-24 18:14:48,791 - INFO - allennlp.training.trainer - Training\n",
            "accuracy: 0.9465, loss: 0.0369 ||: 100%|##########| 1774/1774 [00:28<00:00, 62.74it/s]\n",
            "2019-12-24 18:15:17,066 - INFO - allennlp.training.trainer - Validating\n",
            "accuracy: 0.6157, loss: 0.3638 ||: 100%|##########| 450/450 [00:03<00:00, 142.76it/s]\n",
            "2019-12-24 18:15:20,220 - INFO - allennlp.training.tensorboard_writer -                     Training |  Validation\n",
            "2019-12-24 18:15:20,220 - INFO - allennlp.training.tensorboard_writer - loss            |     0.037  |     0.364\n",
            "2019-12-24 18:15:20,221 - INFO - allennlp.training.tensorboard_writer - gpu_0_memory_MB |   801.000  |       N/A\n",
            "2019-12-24 18:15:20,222 - INFO - allennlp.training.tensorboard_writer - cpu_memory_MB   |  2763.988  |       N/A\n",
            "2019-12-24 18:15:20,222 - INFO - allennlp.training.tensorboard_writer - accuracy        |     0.946  |     0.616\n",
            "2019-12-24 18:15:20,419 - INFO - allennlp.training.trainer - Epoch duration: 0:00:31.691480\n",
            "2019-12-24 18:15:20,419 - INFO - allennlp.training.trainer - Estimated training time remaining: 0:02:08\n",
            "2019-12-24 18:15:20,419 - INFO - allennlp.training.trainer - Epoch 46/49\n",
            "2019-12-24 18:15:20,420 - INFO - allennlp.training.trainer - Peak CPU memory usage MB: 2763.988\n",
            "2019-12-24 18:15:20,489 - INFO - allennlp.training.trainer - GPU 0 memory usage MB: 801\n",
            "2019-12-24 18:15:20,490 - INFO - allennlp.training.trainer - Training\n",
            "accuracy: 0.9470, loss: 0.0368 ||: 100%|##########| 1774/1774 [00:29<00:00, 60.43it/s]\n",
            "2019-12-24 18:15:49,847 - INFO - allennlp.training.trainer - Validating\n",
            "accuracy: 0.6151, loss: 0.3643 ||: 100%|##########| 450/450 [00:03<00:00, 144.35it/s]\n",
            "2019-12-24 18:15:52,965 - INFO - allennlp.training.tensorboard_writer -                     Training |  Validation\n",
            "2019-12-24 18:15:52,966 - INFO - allennlp.training.tensorboard_writer - loss            |     0.037  |     0.364\n",
            "2019-12-24 18:15:52,967 - INFO - allennlp.training.tensorboard_writer - gpu_0_memory_MB |   801.000  |       N/A\n",
            "2019-12-24 18:15:52,967 - INFO - allennlp.training.tensorboard_writer - cpu_memory_MB   |  2763.988  |       N/A\n",
            "2019-12-24 18:15:52,968 - INFO - allennlp.training.tensorboard_writer - accuracy        |     0.947  |     0.615\n",
            "2019-12-24 18:15:53,066 - INFO - allennlp.training.trainer - Epoch duration: 0:00:32.647011\n",
            "2019-12-24 18:15:53,067 - INFO - allennlp.training.trainer - Estimated training time remaining: 0:01:36\n",
            "2019-12-24 18:15:53,067 - INFO - allennlp.training.trainer - Epoch 47/49\n",
            "2019-12-24 18:15:53,067 - INFO - allennlp.training.trainer - Peak CPU memory usage MB: 2763.988\n",
            "2019-12-24 18:15:53,132 - INFO - allennlp.training.trainer - GPU 0 memory usage MB: 801\n",
            "2019-12-24 18:15:53,133 - INFO - allennlp.training.trainer - Training\n",
            "accuracy: 0.9472, loss: 0.0367 ||: 100%|##########| 1774/1774 [00:28<00:00, 61.57it/s]\n",
            "2019-12-24 18:16:21,949 - INFO - allennlp.training.trainer - Validating\n",
            "accuracy: 0.6158, loss: 0.3636 ||: 100%|##########| 450/450 [00:03<00:00, 144.37it/s]\n",
            "2019-12-24 18:16:25,067 - INFO - allennlp.training.tensorboard_writer -                     Training |  Validation\n",
            "2019-12-24 18:16:25,068 - INFO - allennlp.training.tensorboard_writer - loss            |     0.037  |     0.364\n",
            "2019-12-24 18:16:25,069 - INFO - allennlp.training.tensorboard_writer - gpu_0_memory_MB |   801.000  |       N/A\n",
            "2019-12-24 18:16:25,069 - INFO - allennlp.training.tensorboard_writer - cpu_memory_MB   |  2763.988  |       N/A\n",
            "2019-12-24 18:16:25,070 - INFO - allennlp.training.tensorboard_writer - accuracy        |     0.947  |     0.616\n",
            "2019-12-24 18:16:25,175 - INFO - allennlp.training.trainer - Epoch duration: 0:00:32.107404\n",
            "2019-12-24 18:16:25,176 - INFO - allennlp.training.trainer - Estimated training time remaining: 0:01:04\n",
            "2019-12-24 18:16:25,177 - INFO - allennlp.training.trainer - Epoch 48/49\n",
            "2019-12-24 18:16:25,177 - INFO - allennlp.training.trainer - Peak CPU memory usage MB: 2763.992\n",
            "2019-12-24 18:16:25,243 - INFO - allennlp.training.trainer - GPU 0 memory usage MB: 801\n",
            "2019-12-24 18:16:25,244 - INFO - allennlp.training.trainer - Training\n",
            "accuracy: 0.9474, loss: 0.0366 ||: 100%|##########| 1774/1774 [00:30<00:00, 58.91it/s]\n",
            "2019-12-24 18:16:55,357 - INFO - allennlp.training.trainer - Validating\n",
            "accuracy: 0.6152, loss: 0.3657 ||: 100%|##########| 450/450 [00:03<00:00, 137.05it/s]\n",
            "2019-12-24 18:16:58,642 - INFO - allennlp.training.tensorboard_writer -                     Training |  Validation\n",
            "2019-12-24 18:16:58,643 - INFO - allennlp.training.tensorboard_writer - loss            |     0.037  |     0.366\n",
            "2019-12-24 18:16:58,643 - INFO - allennlp.training.tensorboard_writer - gpu_0_memory_MB |   801.000  |       N/A\n",
            "2019-12-24 18:16:58,643 - INFO - allennlp.training.tensorboard_writer - cpu_memory_MB   |  2763.992  |       N/A\n",
            "2019-12-24 18:16:58,644 - INFO - allennlp.training.tensorboard_writer - accuracy        |     0.947  |     0.615\n",
            "2019-12-24 18:16:58,759 - INFO - allennlp.training.trainer - Epoch duration: 0:00:33.582191\n",
            "2019-12-24 18:16:58,759 - INFO - allennlp.training.trainer - Estimated training time remaining: 0:00:32\n",
            "2019-12-24 18:16:58,760 - INFO - allennlp.training.trainer - Epoch 49/49\n",
            "2019-12-24 18:16:58,760 - INFO - allennlp.training.trainer - Peak CPU memory usage MB: 2763.992\n",
            "2019-12-24 18:16:58,828 - INFO - allennlp.training.trainer - GPU 0 memory usage MB: 801\n",
            "2019-12-24 18:16:58,829 - INFO - allennlp.training.trainer - Training\n",
            "accuracy: 0.9479, loss: 0.0365 ||: 100%|##########| 1774/1774 [00:28<00:00, 62.60it/s]\n",
            "2019-12-24 18:17:27,171 - INFO - allennlp.training.trainer - Validating\n",
            "accuracy: 0.6152, loss: 0.3648 ||: 100%|##########| 450/450 [00:03<00:00, 141.59it/s]\n",
            "2019-12-24 18:17:30,351 - INFO - allennlp.training.tensorboard_writer -                     Training |  Validation\n",
            "2019-12-24 18:17:30,351 - INFO - allennlp.training.tensorboard_writer - loss            |     0.037  |     0.365\n",
            "2019-12-24 18:17:30,352 - INFO - allennlp.training.tensorboard_writer - gpu_0_memory_MB |   801.000  |       N/A\n",
            "2019-12-24 18:17:30,352 - INFO - allennlp.training.tensorboard_writer - cpu_memory_MB   |  2763.992  |       N/A\n",
            "2019-12-24 18:17:30,353 - INFO - allennlp.training.tensorboard_writer - accuracy        |     0.948  |     0.615\n",
            "2019-12-24 18:17:30,452 - INFO - allennlp.training.trainer - Epoch duration: 0:00:31.692035\n",
            "2019-12-24 18:17:30,455 - INFO - allennlp.training.checkpointer - loading best weights\n",
            "2019-12-24 18:17:30,523 - INFO - allennlp.models.archival - archiving weights and vocabulary to summarizer/model.tar.gz\n",
            "2019-12-24 18:17:31,991 - INFO - allennlp.common.util - Metrics: {\n",
            "  \"best_epoch\": 3,\n",
            "  \"peak_cpu_memory_MB\": 2763.992,\n",
            "  \"peak_gpu_0_memory_MB\": 801,\n",
            "  \"training_duration\": \"0:26:47.949685\",\n",
            "  \"training_start_epoch\": 0,\n",
            "  \"training_epochs\": 49,\n",
            "  \"epoch\": 49,\n",
            "  \"training_accuracy\": 0.9478505762009581,\n",
            "  \"training_loss\": 0.03650735903656025,\n",
            "  \"training_cpu_memory_MB\": 2763.992,\n",
            "  \"training_gpu_0_memory_MB\": 801,\n",
            "  \"validation_accuracy\": 0.6151578546976036,\n",
            "  \"validation_loss\": 0.36478194599310276,\n",
            "  \"best_validation_accuracy\": 0.6506276150627615,\n",
            "  \"best_validation_loss\": 0.21883400120668942\n",
            "}\n"
          ],
          "name": "stdout"
        }
      ]
    },
    {
      "cell_type": "code",
      "metadata": {
        "id": "2EZMwR25qi0w",
        "colab_type": "code",
        "outputId": "91900e49-ab84-4b6f-9f64-f6e30221874a",
        "colab": {
          "base_uri": "https://localhost:8080/",
          "height": 34
        }
      },
      "source": [
        "!pwd"
      ],
      "execution_count": 0,
      "outputs": [
        {
          "output_type": "stream",
          "text": [
            "/content/drive/My Drive/Ayush_Project\n"
          ],
          "name": "stdout"
        }
      ]
    },
    {
      "cell_type": "code",
      "metadata": {
        "id": "P0Kg3RF1119X",
        "colab_type": "code",
        "colab": {}
      },
      "source": [
        ""
      ],
      "execution_count": 0,
      "outputs": []
    }
  ]
}